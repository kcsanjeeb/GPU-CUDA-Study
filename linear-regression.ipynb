{
 "cells": [
  {
   "metadata": {},
   "cell_type": "markdown",
   "source": "# Linear Regression Algorithm",
   "id": "dc479d7dddedd0b0"
  },
  {
   "metadata": {},
   "cell_type": "markdown",
   "source": [
    "## Summary\n",
    " * Split data (train/test or CV).\n",
    " * Fit OLS (optionally Ridge/Lasso/ElasticNet).\n",
    " * Report R2, RMSE/MAE on test set.\n",
    " * Inspect residuals: mean ≈0 (train), histogram/KDE, residuals vs fitted, Q–Q.\n",
    " * Check multicollinearity: VIF (<4–5 is fine).\n",
    " * Probe outliers/influence; consider interactions/nonlinearity if patterns remain."
   ],
   "id": "6bb6ec0b3c630136"
  },
  {
   "metadata": {
    "ExecuteTime": {
     "end_time": "2025-09-26T00:53:30.785878Z",
     "start_time": "2025-09-26T00:51:11.738832Z"
    }
   },
   "cell_type": "code",
   "source": "! pip install pandas numpy matplotlib seaborn scikit-learn",
   "id": "aa538f2ea9396225",
   "outputs": [
    {
     "name": "stdout",
     "output_type": "stream",
     "text": [
      "Collecting pandas\r\n",
      "  Using cached pandas-2.3.2-cp313-cp313-manylinux_2_17_x86_64.manylinux2014_x86_64.whl.metadata (91 kB)\r\n",
      "Requirement already satisfied: numpy in /home/san/miniconda/envs/mac-linux/lib/python3.13/site-packages (2.3.3)\r\n",
      "Collecting matplotlib\r\n",
      "  Using cached matplotlib-3.10.6-cp313-cp313-manylinux2014_x86_64.manylinux_2_17_x86_64.whl.metadata (11 kB)\r\n",
      "Collecting seaborn\r\n",
      "  Using cached seaborn-0.13.2-py3-none-any.whl.metadata (5.4 kB)\r\n",
      "Collecting scikit-learn\r\n",
      "  Downloading scikit_learn-1.7.2-cp313-cp313-manylinux2014_x86_64.manylinux_2_17_x86_64.whl.metadata (11 kB)\r\n",
      "Requirement already satisfied: python-dateutil>=2.8.2 in /home/san/miniconda/envs/mac-linux/lib/python3.13/site-packages (from pandas) (2.9.0.post0)\r\n",
      "Collecting pytz>=2020.1 (from pandas)\r\n",
      "  Downloading pytz-2025.2-py2.py3-none-any.whl.metadata (22 kB)\r\n",
      "Collecting tzdata>=2022.7 (from pandas)\r\n",
      "  Downloading tzdata-2025.2-py2.py3-none-any.whl.metadata (1.4 kB)\r\n",
      "Collecting contourpy>=1.0.1 (from matplotlib)\r\n",
      "  Downloading contourpy-1.3.3-cp313-cp313-manylinux_2_27_x86_64.manylinux_2_28_x86_64.whl.metadata (5.5 kB)\r\n",
      "Collecting cycler>=0.10 (from matplotlib)\r\n",
      "  Downloading cycler-0.12.1-py3-none-any.whl.metadata (3.8 kB)\r\n",
      "Collecting fonttools>=4.22.0 (from matplotlib)\r\n",
      "  Downloading fonttools-4.60.0-cp313-cp313-manylinux1_x86_64.manylinux2014_x86_64.manylinux_2_17_x86_64.manylinux_2_5_x86_64.whl.metadata (111 kB)\r\n",
      "Collecting kiwisolver>=1.3.1 (from matplotlib)\r\n",
      "  Downloading kiwisolver-1.4.9-cp313-cp313-manylinux2014_x86_64.manylinux_2_17_x86_64.whl.metadata (6.3 kB)\r\n",
      "Requirement already satisfied: packaging>=20.0 in /home/san/miniconda/envs/mac-linux/lib/python3.13/site-packages (from matplotlib) (25.0)\r\n",
      "Requirement already satisfied: pillow>=8 in /home/san/miniconda/envs/mac-linux/lib/python3.13/site-packages (from matplotlib) (11.3.0)\r\n",
      "Collecting pyparsing>=2.3.1 (from matplotlib)\r\n",
      "  Downloading pyparsing-3.2.5-py3-none-any.whl.metadata (5.0 kB)\r\n",
      "Collecting scipy>=1.8.0 (from scikit-learn)\r\n",
      "  Downloading scipy-1.16.2-cp313-cp313-manylinux2014_x86_64.manylinux_2_17_x86_64.whl.metadata (62 kB)\r\n",
      "Collecting joblib>=1.2.0 (from scikit-learn)\r\n",
      "  Downloading joblib-1.5.2-py3-none-any.whl.metadata (5.6 kB)\r\n",
      "Collecting threadpoolctl>=3.1.0 (from scikit-learn)\r\n",
      "  Downloading threadpoolctl-3.6.0-py3-none-any.whl.metadata (13 kB)\r\n",
      "Requirement already satisfied: six>=1.5 in /home/san/miniconda/envs/mac-linux/lib/python3.13/site-packages (from python-dateutil>=2.8.2->pandas) (1.17.0)\r\n",
      "Downloading pandas-2.3.2-cp313-cp313-manylinux_2_17_x86_64.manylinux2014_x86_64.whl (12.1 MB)\r\n",
      "\u001B[2K   \u001B[90m━━━━━━━━━━━━━━━━━━━━━━━━━━━━━━━━━━━━━━━━\u001B[0m \u001B[32m12.1/12.1 MB\u001B[0m \u001B[31m527.7 kB/s\u001B[0m  \u001B[33m0:00:22\u001B[0mm0:00:01\u001B[0m00:01\u001B[0m\r\n",
      "\u001B[?25hDownloading matplotlib-3.10.6-cp313-cp313-manylinux2014_x86_64.manylinux_2_17_x86_64.whl (8.7 MB)\r\n",
      "\u001B[2K   \u001B[90m━━━━━━━━━━━━━━━━━━━━━━━━━━━━━━━━━━━━━━━━\u001B[0m \u001B[32m8.7/8.7 MB\u001B[0m \u001B[31m634.1 kB/s\u001B[0m  \u001B[33m0:00:13\u001B[0m eta \u001B[36m0:00:01\u001B[0m\r\n",
      "\u001B[?25hDownloading seaborn-0.13.2-py3-none-any.whl (294 kB)\r\n",
      "Downloading scikit_learn-1.7.2-cp313-cp313-manylinux2014_x86_64.manylinux_2_17_x86_64.whl (9.4 MB)\r\n",
      "\u001B[2K   \u001B[90m━━━━━━━━━━━━━━━━━━━━━━━━━━━━━━━━━━━━━━━━\u001B[0m \u001B[32m9.4/9.4 MB\u001B[0m \u001B[31m648.0 kB/s\u001B[0m  \u001B[33m0:00:14\u001B[0m eta \u001B[36m0:00:01\u001B[0m\r\n",
      "\u001B[?25hDownloading contourpy-1.3.3-cp313-cp313-manylinux_2_27_x86_64.manylinux_2_28_x86_64.whl (362 kB)\r\n",
      "Downloading cycler-0.12.1-py3-none-any.whl (8.3 kB)\r\n",
      "Downloading fonttools-4.60.0-cp313-cp313-manylinux1_x86_64.manylinux2014_x86_64.manylinux_2_17_x86_64.manylinux_2_5_x86_64.whl (4.9 MB)\r\n",
      "\u001B[2K   \u001B[90m━━━━━━━━━━━━━━━━━━━━━━━━━━━━━━━━━━━━━━━━\u001B[0m \u001B[32m4.9/4.9 MB\u001B[0m \u001B[31m750.3 kB/s\u001B[0m  \u001B[33m0:00:06\u001B[0m eta \u001B[36m0:00:01\u001B[0m\r\n",
      "\u001B[?25hDownloading joblib-1.5.2-py3-none-any.whl (308 kB)\r\n",
      "Downloading kiwisolver-1.4.9-cp313-cp313-manylinux2014_x86_64.manylinux_2_17_x86_64.whl (1.5 MB)\r\n",
      "\u001B[2K   \u001B[90m━━━━━━━━━━━━━━━━━━━━━━━━━━━━━━━━━━━━━━━━\u001B[0m \u001B[32m1.5/1.5 MB\u001B[0m \u001B[31m646.2 kB/s\u001B[0m  \u001B[33m0:00:02\u001B[0m eta \u001B[36m0:00:01\u001B[0m\r\n",
      "\u001B[?25hDownloading pyparsing-3.2.5-py3-none-any.whl (113 kB)\r\n",
      "Downloading pytz-2025.2-py2.py3-none-any.whl (509 kB)\r\n",
      "Downloading scipy-1.16.2-cp313-cp313-manylinux2014_x86_64.manylinux_2_17_x86_64.whl (35.7 MB)\r\n",
      "\u001B[2K   \u001B[90m━━━━━━━━━━━━━━━━━━━━━━━━━━━━━━━━━━━━━━━━\u001B[0m \u001B[32m35.7/35.7 MB\u001B[0m \u001B[31m605.6 kB/s\u001B[0m  \u001B[33m0:00:58\u001B[0mm0:00:01\u001B[0m00:02\u001B[0m\r\n",
      "\u001B[?25hDownloading threadpoolctl-3.6.0-py3-none-any.whl (18 kB)\r\n",
      "Downloading tzdata-2025.2-py2.py3-none-any.whl (347 kB)\r\n",
      "Installing collected packages: pytz, tzdata, threadpoolctl, scipy, pyparsing, kiwisolver, joblib, fonttools, cycler, contourpy, scikit-learn, pandas, matplotlib, seaborn\r\n",
      "\u001B[2K   \u001B[90m━━━━━━━━━━━━━━━━━━━━━━━━━━━━━━━━━━━━━━━━\u001B[0m \u001B[32m14/14\u001B[0m [seaborn]3/14\u001B[0m [seaborn]ib]n]\r\n",
      "\u001B[1A\u001B[2KSuccessfully installed contourpy-1.3.3 cycler-0.12.1 fonttools-4.60.0 joblib-1.5.2 kiwisolver-1.4.9 matplotlib-3.10.6 pandas-2.3.2 pyparsing-3.2.5 pytz-2025.2 scikit-learn-1.7.2 scipy-1.16.2 seaborn-0.13.2 threadpoolctl-3.6.0 tzdata-2025.2\r\n"
     ]
    }
   ],
   "execution_count": 3
  },
  {
   "metadata": {
    "ExecuteTime": {
     "end_time": "2025-09-26T00:54:41.023214Z",
     "start_time": "2025-09-26T00:54:39.426520Z"
    }
   },
   "cell_type": "code",
   "source": [
    "import pandas as pd\n",
    "import numpy as np\n",
    "import matplotlib.pyplot as plt\n",
    "import seaborn as sns\n",
    "import sklearn.model_selection as ms\n",
    "from sklearn.linear_model import LinearRegression\n",
    "%matplotlib inline"
   ],
   "id": "f33602adb7b5d11e",
   "outputs": [],
   "execution_count": 4
  },
  {
   "metadata": {},
   "cell_type": "markdown",
   "source": [
    "## 1. Dataset\n",
    "\n",
    "* Data source: Advertising.csv\n",
    "    * Features (inputs): TV, radio, newspaper (advertising budgets in thousands of dollars).\n",
    "    * Target (output): sales (product sales in thousands of units).\n",
    "* Purpose: We want to build a model that can predict sales based on how much is spent on different types of advertising."
   ],
   "id": "b7b6e33a94d567e9"
  },
  {
   "metadata": {
    "ExecuteTime": {
     "end_time": "2025-09-26T00:55:26.188581Z",
     "start_time": "2025-09-26T00:55:26.164380Z"
    }
   },
   "cell_type": "code",
   "source": [
    "df = pd.read_csv(\"Advertising.csv\")\n",
    "df"
   ],
   "id": "5fe645bc29f14a2",
   "outputs": [
    {
     "data": {
      "text/plain": [
       "        TV  radio  newspaper  sales\n",
       "1    230.1   37.8       69.2   22.1\n",
       "2     44.5   39.3       45.1   10.4\n",
       "3     17.2   45.9       69.3    9.3\n",
       "4    151.5   41.3       58.5   18.5\n",
       "5    180.8   10.8       58.4   12.9\n",
       "..     ...    ...        ...    ...\n",
       "196   38.2    3.7       13.8    7.6\n",
       "197   94.2    4.9        8.1    9.7\n",
       "198  177.0    9.3        6.4   12.8\n",
       "199  283.6   42.0       66.2   25.5\n",
       "200  232.1    8.6        8.7   13.4\n",
       "\n",
       "[200 rows x 4 columns]"
      ],
      "text/html": [
       "<div>\n",
       "<style scoped>\n",
       "    .dataframe tbody tr th:only-of-type {\n",
       "        vertical-align: middle;\n",
       "    }\n",
       "\n",
       "    .dataframe tbody tr th {\n",
       "        vertical-align: top;\n",
       "    }\n",
       "\n",
       "    .dataframe thead th {\n",
       "        text-align: right;\n",
       "    }\n",
       "</style>\n",
       "<table border=\"1\" class=\"dataframe\">\n",
       "  <thead>\n",
       "    <tr style=\"text-align: right;\">\n",
       "      <th></th>\n",
       "      <th>TV</th>\n",
       "      <th>radio</th>\n",
       "      <th>newspaper</th>\n",
       "      <th>sales</th>\n",
       "    </tr>\n",
       "  </thead>\n",
       "  <tbody>\n",
       "    <tr>\n",
       "      <th>1</th>\n",
       "      <td>230.1</td>\n",
       "      <td>37.8</td>\n",
       "      <td>69.2</td>\n",
       "      <td>22.1</td>\n",
       "    </tr>\n",
       "    <tr>\n",
       "      <th>2</th>\n",
       "      <td>44.5</td>\n",
       "      <td>39.3</td>\n",
       "      <td>45.1</td>\n",
       "      <td>10.4</td>\n",
       "    </tr>\n",
       "    <tr>\n",
       "      <th>3</th>\n",
       "      <td>17.2</td>\n",
       "      <td>45.9</td>\n",
       "      <td>69.3</td>\n",
       "      <td>9.3</td>\n",
       "    </tr>\n",
       "    <tr>\n",
       "      <th>4</th>\n",
       "      <td>151.5</td>\n",
       "      <td>41.3</td>\n",
       "      <td>58.5</td>\n",
       "      <td>18.5</td>\n",
       "    </tr>\n",
       "    <tr>\n",
       "      <th>5</th>\n",
       "      <td>180.8</td>\n",
       "      <td>10.8</td>\n",
       "      <td>58.4</td>\n",
       "      <td>12.9</td>\n",
       "    </tr>\n",
       "    <tr>\n",
       "      <th>...</th>\n",
       "      <td>...</td>\n",
       "      <td>...</td>\n",
       "      <td>...</td>\n",
       "      <td>...</td>\n",
       "    </tr>\n",
       "    <tr>\n",
       "      <th>196</th>\n",
       "      <td>38.2</td>\n",
       "      <td>3.7</td>\n",
       "      <td>13.8</td>\n",
       "      <td>7.6</td>\n",
       "    </tr>\n",
       "    <tr>\n",
       "      <th>197</th>\n",
       "      <td>94.2</td>\n",
       "      <td>4.9</td>\n",
       "      <td>8.1</td>\n",
       "      <td>9.7</td>\n",
       "    </tr>\n",
       "    <tr>\n",
       "      <th>198</th>\n",
       "      <td>177.0</td>\n",
       "      <td>9.3</td>\n",
       "      <td>6.4</td>\n",
       "      <td>12.8</td>\n",
       "    </tr>\n",
       "    <tr>\n",
       "      <th>199</th>\n",
       "      <td>283.6</td>\n",
       "      <td>42.0</td>\n",
       "      <td>66.2</td>\n",
       "      <td>25.5</td>\n",
       "    </tr>\n",
       "    <tr>\n",
       "      <th>200</th>\n",
       "      <td>232.1</td>\n",
       "      <td>8.6</td>\n",
       "      <td>8.7</td>\n",
       "      <td>13.4</td>\n",
       "    </tr>\n",
       "  </tbody>\n",
       "</table>\n",
       "<p>200 rows × 4 columns</p>\n",
       "</div>"
      ]
     },
     "execution_count": 6,
     "metadata": {},
     "output_type": "execute_result"
    }
   ],
   "execution_count": 6
  },
  {
   "metadata": {
    "ExecuteTime": {
     "end_time": "2025-09-26T00:55:28.627194Z",
     "start_time": "2025-09-26T00:55:28.613045Z"
    }
   },
   "cell_type": "code",
   "source": "df.head()",
   "id": "eb755610d187a852",
   "outputs": [
    {
     "data": {
      "text/plain": [
       "      TV  radio  newspaper  sales\n",
       "1  230.1   37.8       69.2   22.1\n",
       "2   44.5   39.3       45.1   10.4\n",
       "3   17.2   45.9       69.3    9.3\n",
       "4  151.5   41.3       58.5   18.5\n",
       "5  180.8   10.8       58.4   12.9"
      ],
      "text/html": [
       "<div>\n",
       "<style scoped>\n",
       "    .dataframe tbody tr th:only-of-type {\n",
       "        vertical-align: middle;\n",
       "    }\n",
       "\n",
       "    .dataframe tbody tr th {\n",
       "        vertical-align: top;\n",
       "    }\n",
       "\n",
       "    .dataframe thead th {\n",
       "        text-align: right;\n",
       "    }\n",
       "</style>\n",
       "<table border=\"1\" class=\"dataframe\">\n",
       "  <thead>\n",
       "    <tr style=\"text-align: right;\">\n",
       "      <th></th>\n",
       "      <th>TV</th>\n",
       "      <th>radio</th>\n",
       "      <th>newspaper</th>\n",
       "      <th>sales</th>\n",
       "    </tr>\n",
       "  </thead>\n",
       "  <tbody>\n",
       "    <tr>\n",
       "      <th>1</th>\n",
       "      <td>230.1</td>\n",
       "      <td>37.8</td>\n",
       "      <td>69.2</td>\n",
       "      <td>22.1</td>\n",
       "    </tr>\n",
       "    <tr>\n",
       "      <th>2</th>\n",
       "      <td>44.5</td>\n",
       "      <td>39.3</td>\n",
       "      <td>45.1</td>\n",
       "      <td>10.4</td>\n",
       "    </tr>\n",
       "    <tr>\n",
       "      <th>3</th>\n",
       "      <td>17.2</td>\n",
       "      <td>45.9</td>\n",
       "      <td>69.3</td>\n",
       "      <td>9.3</td>\n",
       "    </tr>\n",
       "    <tr>\n",
       "      <th>4</th>\n",
       "      <td>151.5</td>\n",
       "      <td>41.3</td>\n",
       "      <td>58.5</td>\n",
       "      <td>18.5</td>\n",
       "    </tr>\n",
       "    <tr>\n",
       "      <th>5</th>\n",
       "      <td>180.8</td>\n",
       "      <td>10.8</td>\n",
       "      <td>58.4</td>\n",
       "      <td>12.9</td>\n",
       "    </tr>\n",
       "  </tbody>\n",
       "</table>\n",
       "</div>"
      ]
     },
     "execution_count": 7,
     "metadata": {},
     "output_type": "execute_result"
    }
   ],
   "execution_count": 7
  },
  {
   "metadata": {},
   "cell_type": "markdown",
   "source": [
    "Input : TV, radio, newspaper\n",
    "Output : sales"
   ],
   "id": "2499278d5ae385e5"
  },
  {
   "metadata": {
    "ExecuteTime": {
     "end_time": "2025-09-26T00:55:30.909546Z",
     "start_time": "2025-09-26T00:55:30.900263Z"
    }
   },
   "cell_type": "code",
   "source": [
    "X = df.drop(columns=[\"sales\"])\n",
    "y = df['sales']\n",
    "y.head()"
   ],
   "id": "ceae3fdbf1375e54",
   "outputs": [
    {
     "data": {
      "text/plain": [
       "1    22.1\n",
       "2    10.4\n",
       "3     9.3\n",
       "4    18.5\n",
       "5    12.9\n",
       "Name: sales, dtype: float64"
      ]
     },
     "execution_count": 8,
     "metadata": {},
     "output_type": "execute_result"
    }
   ],
   "execution_count": 8
  },
  {
   "metadata": {
    "ExecuteTime": {
     "end_time": "2025-09-26T00:55:32.868230Z",
     "start_time": "2025-09-26T00:55:32.862443Z"
    }
   },
   "cell_type": "code",
   "source": "df.shape",
   "id": "3ea5979215a336ce",
   "outputs": [
    {
     "data": {
      "text/plain": [
       "(200, 4)"
      ]
     },
     "execution_count": 9,
     "metadata": {},
     "output_type": "execute_result"
    }
   ],
   "execution_count": 9
  },
  {
   "metadata": {},
   "cell_type": "markdown",
   "source": [
    "## 2. Sampling / Data Splitting\n",
    "In ML, we never train and evaluate on the same data.\n",
    "The Code Uses :\n",
    "* Training set (70 %) → used to fit the model.\n",
    "* Test set (30 %) → kept aside to evaluate final model performance.\n",
    "* random_state=4 ensures reproducibility."
   ],
   "id": "57eb4fddc281ab65"
  },
  {
   "metadata": {
    "ExecuteTime": {
     "end_time": "2025-09-26T00:55:34.723958Z",
     "start_time": "2025-09-26T00:55:34.713820Z"
    }
   },
   "cell_type": "code",
   "source": [
    "X_train, X_test, y_train, y_test = ms.train_test_split(X, y, random_state=4 ,test_size=0.3)\n",
    "X_train.shape, X_test.shape"
   ],
   "id": "f6c53473ddb85910",
   "outputs": [
    {
     "data": {
      "text/plain": [
       "((140, 3), (60, 3))"
      ]
     },
     "execution_count": 10,
     "metadata": {},
     "output_type": "execute_result"
    }
   ],
   "execution_count": 10
  },
  {
   "metadata": {},
   "cell_type": "markdown",
   "source": [
    "## 3. Training the ML Model\n",
    "* The training data goes through Linear Regression, a supervised learning algorithm:\n",
    "    * The algorithm finds the best-fit coefficients `(lr.coef_)` and an intercept `(lr.intercept_)` to minimize the Mean Squared Error on training data.\n",
    "* This produces a trained ML model, i.e., a mathematical equation:\n",
    "    * ``` sales ≈ β0 + β1·TV + β2·radio + β3·newspaper ```"
   ],
   "id": "931831dd083fb1ee"
  },
  {
   "metadata": {
    "ExecuteTime": {
     "end_time": "2025-09-26T00:55:37.587839Z",
     "start_time": "2025-09-26T00:55:37.573464Z"
    }
   },
   "cell_type": "code",
   "source": [
    "lr = LinearRegression()\n",
    "lr.fit(X_train, y_train)"
   ],
   "id": "3289ac7710c15e86",
   "outputs": [
    {
     "data": {
      "text/plain": [
       "LinearRegression()"
      ],
      "text/html": [
       "<style>#sk-container-id-1 {\n",
       "  /* Definition of color scheme common for light and dark mode */\n",
       "  --sklearn-color-text: #000;\n",
       "  --sklearn-color-text-muted: #666;\n",
       "  --sklearn-color-line: gray;\n",
       "  /* Definition of color scheme for unfitted estimators */\n",
       "  --sklearn-color-unfitted-level-0: #fff5e6;\n",
       "  --sklearn-color-unfitted-level-1: #f6e4d2;\n",
       "  --sklearn-color-unfitted-level-2: #ffe0b3;\n",
       "  --sklearn-color-unfitted-level-3: chocolate;\n",
       "  /* Definition of color scheme for fitted estimators */\n",
       "  --sklearn-color-fitted-level-0: #f0f8ff;\n",
       "  --sklearn-color-fitted-level-1: #d4ebff;\n",
       "  --sklearn-color-fitted-level-2: #b3dbfd;\n",
       "  --sklearn-color-fitted-level-3: cornflowerblue;\n",
       "\n",
       "  /* Specific color for light theme */\n",
       "  --sklearn-color-text-on-default-background: var(--sg-text-color, var(--theme-code-foreground, var(--jp-content-font-color1, black)));\n",
       "  --sklearn-color-background: var(--sg-background-color, var(--theme-background, var(--jp-layout-color0, white)));\n",
       "  --sklearn-color-border-box: var(--sg-text-color, var(--theme-code-foreground, var(--jp-content-font-color1, black)));\n",
       "  --sklearn-color-icon: #696969;\n",
       "\n",
       "  @media (prefers-color-scheme: dark) {\n",
       "    /* Redefinition of color scheme for dark theme */\n",
       "    --sklearn-color-text-on-default-background: var(--sg-text-color, var(--theme-code-foreground, var(--jp-content-font-color1, white)));\n",
       "    --sklearn-color-background: var(--sg-background-color, var(--theme-background, var(--jp-layout-color0, #111)));\n",
       "    --sklearn-color-border-box: var(--sg-text-color, var(--theme-code-foreground, var(--jp-content-font-color1, white)));\n",
       "    --sklearn-color-icon: #878787;\n",
       "  }\n",
       "}\n",
       "\n",
       "#sk-container-id-1 {\n",
       "  color: var(--sklearn-color-text);\n",
       "}\n",
       "\n",
       "#sk-container-id-1 pre {\n",
       "  padding: 0;\n",
       "}\n",
       "\n",
       "#sk-container-id-1 input.sk-hidden--visually {\n",
       "  border: 0;\n",
       "  clip: rect(1px 1px 1px 1px);\n",
       "  clip: rect(1px, 1px, 1px, 1px);\n",
       "  height: 1px;\n",
       "  margin: -1px;\n",
       "  overflow: hidden;\n",
       "  padding: 0;\n",
       "  position: absolute;\n",
       "  width: 1px;\n",
       "}\n",
       "\n",
       "#sk-container-id-1 div.sk-dashed-wrapped {\n",
       "  border: 1px dashed var(--sklearn-color-line);\n",
       "  margin: 0 0.4em 0.5em 0.4em;\n",
       "  box-sizing: border-box;\n",
       "  padding-bottom: 0.4em;\n",
       "  background-color: var(--sklearn-color-background);\n",
       "}\n",
       "\n",
       "#sk-container-id-1 div.sk-container {\n",
       "  /* jupyter's `normalize.less` sets `[hidden] { display: none; }`\n",
       "     but bootstrap.min.css set `[hidden] { display: none !important; }`\n",
       "     so we also need the `!important` here to be able to override the\n",
       "     default hidden behavior on the sphinx rendered scikit-learn.org.\n",
       "     See: https://github.com/scikit-learn/scikit-learn/issues/21755 */\n",
       "  display: inline-block !important;\n",
       "  position: relative;\n",
       "}\n",
       "\n",
       "#sk-container-id-1 div.sk-text-repr-fallback {\n",
       "  display: none;\n",
       "}\n",
       "\n",
       "div.sk-parallel-item,\n",
       "div.sk-serial,\n",
       "div.sk-item {\n",
       "  /* draw centered vertical line to link estimators */\n",
       "  background-image: linear-gradient(var(--sklearn-color-text-on-default-background), var(--sklearn-color-text-on-default-background));\n",
       "  background-size: 2px 100%;\n",
       "  background-repeat: no-repeat;\n",
       "  background-position: center center;\n",
       "}\n",
       "\n",
       "/* Parallel-specific style estimator block */\n",
       "\n",
       "#sk-container-id-1 div.sk-parallel-item::after {\n",
       "  content: \"\";\n",
       "  width: 100%;\n",
       "  border-bottom: 2px solid var(--sklearn-color-text-on-default-background);\n",
       "  flex-grow: 1;\n",
       "}\n",
       "\n",
       "#sk-container-id-1 div.sk-parallel {\n",
       "  display: flex;\n",
       "  align-items: stretch;\n",
       "  justify-content: center;\n",
       "  background-color: var(--sklearn-color-background);\n",
       "  position: relative;\n",
       "}\n",
       "\n",
       "#sk-container-id-1 div.sk-parallel-item {\n",
       "  display: flex;\n",
       "  flex-direction: column;\n",
       "}\n",
       "\n",
       "#sk-container-id-1 div.sk-parallel-item:first-child::after {\n",
       "  align-self: flex-end;\n",
       "  width: 50%;\n",
       "}\n",
       "\n",
       "#sk-container-id-1 div.sk-parallel-item:last-child::after {\n",
       "  align-self: flex-start;\n",
       "  width: 50%;\n",
       "}\n",
       "\n",
       "#sk-container-id-1 div.sk-parallel-item:only-child::after {\n",
       "  width: 0;\n",
       "}\n",
       "\n",
       "/* Serial-specific style estimator block */\n",
       "\n",
       "#sk-container-id-1 div.sk-serial {\n",
       "  display: flex;\n",
       "  flex-direction: column;\n",
       "  align-items: center;\n",
       "  background-color: var(--sklearn-color-background);\n",
       "  padding-right: 1em;\n",
       "  padding-left: 1em;\n",
       "}\n",
       "\n",
       "\n",
       "/* Toggleable style: style used for estimator/Pipeline/ColumnTransformer box that is\n",
       "clickable and can be expanded/collapsed.\n",
       "- Pipeline and ColumnTransformer use this feature and define the default style\n",
       "- Estimators will overwrite some part of the style using the `sk-estimator` class\n",
       "*/\n",
       "\n",
       "/* Pipeline and ColumnTransformer style (default) */\n",
       "\n",
       "#sk-container-id-1 div.sk-toggleable {\n",
       "  /* Default theme specific background. It is overwritten whether we have a\n",
       "  specific estimator or a Pipeline/ColumnTransformer */\n",
       "  background-color: var(--sklearn-color-background);\n",
       "}\n",
       "\n",
       "/* Toggleable label */\n",
       "#sk-container-id-1 label.sk-toggleable__label {\n",
       "  cursor: pointer;\n",
       "  display: flex;\n",
       "  width: 100%;\n",
       "  margin-bottom: 0;\n",
       "  padding: 0.5em;\n",
       "  box-sizing: border-box;\n",
       "  text-align: center;\n",
       "  align-items: start;\n",
       "  justify-content: space-between;\n",
       "  gap: 0.5em;\n",
       "}\n",
       "\n",
       "#sk-container-id-1 label.sk-toggleable__label .caption {\n",
       "  font-size: 0.6rem;\n",
       "  font-weight: lighter;\n",
       "  color: var(--sklearn-color-text-muted);\n",
       "}\n",
       "\n",
       "#sk-container-id-1 label.sk-toggleable__label-arrow:before {\n",
       "  /* Arrow on the left of the label */\n",
       "  content: \"▸\";\n",
       "  float: left;\n",
       "  margin-right: 0.25em;\n",
       "  color: var(--sklearn-color-icon);\n",
       "}\n",
       "\n",
       "#sk-container-id-1 label.sk-toggleable__label-arrow:hover:before {\n",
       "  color: var(--sklearn-color-text);\n",
       "}\n",
       "\n",
       "/* Toggleable content - dropdown */\n",
       "\n",
       "#sk-container-id-1 div.sk-toggleable__content {\n",
       "  display: none;\n",
       "  text-align: left;\n",
       "  /* unfitted */\n",
       "  background-color: var(--sklearn-color-unfitted-level-0);\n",
       "}\n",
       "\n",
       "#sk-container-id-1 div.sk-toggleable__content.fitted {\n",
       "  /* fitted */\n",
       "  background-color: var(--sklearn-color-fitted-level-0);\n",
       "}\n",
       "\n",
       "#sk-container-id-1 div.sk-toggleable__content pre {\n",
       "  margin: 0.2em;\n",
       "  border-radius: 0.25em;\n",
       "  color: var(--sklearn-color-text);\n",
       "  /* unfitted */\n",
       "  background-color: var(--sklearn-color-unfitted-level-0);\n",
       "}\n",
       "\n",
       "#sk-container-id-1 div.sk-toggleable__content.fitted pre {\n",
       "  /* unfitted */\n",
       "  background-color: var(--sklearn-color-fitted-level-0);\n",
       "}\n",
       "\n",
       "#sk-container-id-1 input.sk-toggleable__control:checked~div.sk-toggleable__content {\n",
       "  /* Expand drop-down */\n",
       "  display: block;\n",
       "  width: 100%;\n",
       "  overflow: visible;\n",
       "}\n",
       "\n",
       "#sk-container-id-1 input.sk-toggleable__control:checked~label.sk-toggleable__label-arrow:before {\n",
       "  content: \"▾\";\n",
       "}\n",
       "\n",
       "/* Pipeline/ColumnTransformer-specific style */\n",
       "\n",
       "#sk-container-id-1 div.sk-label input.sk-toggleable__control:checked~label.sk-toggleable__label {\n",
       "  color: var(--sklearn-color-text);\n",
       "  background-color: var(--sklearn-color-unfitted-level-2);\n",
       "}\n",
       "\n",
       "#sk-container-id-1 div.sk-label.fitted input.sk-toggleable__control:checked~label.sk-toggleable__label {\n",
       "  background-color: var(--sklearn-color-fitted-level-2);\n",
       "}\n",
       "\n",
       "/* Estimator-specific style */\n",
       "\n",
       "/* Colorize estimator box */\n",
       "#sk-container-id-1 div.sk-estimator input.sk-toggleable__control:checked~label.sk-toggleable__label {\n",
       "  /* unfitted */\n",
       "  background-color: var(--sklearn-color-unfitted-level-2);\n",
       "}\n",
       "\n",
       "#sk-container-id-1 div.sk-estimator.fitted input.sk-toggleable__control:checked~label.sk-toggleable__label {\n",
       "  /* fitted */\n",
       "  background-color: var(--sklearn-color-fitted-level-2);\n",
       "}\n",
       "\n",
       "#sk-container-id-1 div.sk-label label.sk-toggleable__label,\n",
       "#sk-container-id-1 div.sk-label label {\n",
       "  /* The background is the default theme color */\n",
       "  color: var(--sklearn-color-text-on-default-background);\n",
       "}\n",
       "\n",
       "/* On hover, darken the color of the background */\n",
       "#sk-container-id-1 div.sk-label:hover label.sk-toggleable__label {\n",
       "  color: var(--sklearn-color-text);\n",
       "  background-color: var(--sklearn-color-unfitted-level-2);\n",
       "}\n",
       "\n",
       "/* Label box, darken color on hover, fitted */\n",
       "#sk-container-id-1 div.sk-label.fitted:hover label.sk-toggleable__label.fitted {\n",
       "  color: var(--sklearn-color-text);\n",
       "  background-color: var(--sklearn-color-fitted-level-2);\n",
       "}\n",
       "\n",
       "/* Estimator label */\n",
       "\n",
       "#sk-container-id-1 div.sk-label label {\n",
       "  font-family: monospace;\n",
       "  font-weight: bold;\n",
       "  display: inline-block;\n",
       "  line-height: 1.2em;\n",
       "}\n",
       "\n",
       "#sk-container-id-1 div.sk-label-container {\n",
       "  text-align: center;\n",
       "}\n",
       "\n",
       "/* Estimator-specific */\n",
       "#sk-container-id-1 div.sk-estimator {\n",
       "  font-family: monospace;\n",
       "  border: 1px dotted var(--sklearn-color-border-box);\n",
       "  border-radius: 0.25em;\n",
       "  box-sizing: border-box;\n",
       "  margin-bottom: 0.5em;\n",
       "  /* unfitted */\n",
       "  background-color: var(--sklearn-color-unfitted-level-0);\n",
       "}\n",
       "\n",
       "#sk-container-id-1 div.sk-estimator.fitted {\n",
       "  /* fitted */\n",
       "  background-color: var(--sklearn-color-fitted-level-0);\n",
       "}\n",
       "\n",
       "/* on hover */\n",
       "#sk-container-id-1 div.sk-estimator:hover {\n",
       "  /* unfitted */\n",
       "  background-color: var(--sklearn-color-unfitted-level-2);\n",
       "}\n",
       "\n",
       "#sk-container-id-1 div.sk-estimator.fitted:hover {\n",
       "  /* fitted */\n",
       "  background-color: var(--sklearn-color-fitted-level-2);\n",
       "}\n",
       "\n",
       "/* Specification for estimator info (e.g. \"i\" and \"?\") */\n",
       "\n",
       "/* Common style for \"i\" and \"?\" */\n",
       "\n",
       ".sk-estimator-doc-link,\n",
       "a:link.sk-estimator-doc-link,\n",
       "a:visited.sk-estimator-doc-link {\n",
       "  float: right;\n",
       "  font-size: smaller;\n",
       "  line-height: 1em;\n",
       "  font-family: monospace;\n",
       "  background-color: var(--sklearn-color-background);\n",
       "  border-radius: 1em;\n",
       "  height: 1em;\n",
       "  width: 1em;\n",
       "  text-decoration: none !important;\n",
       "  margin-left: 0.5em;\n",
       "  text-align: center;\n",
       "  /* unfitted */\n",
       "  border: var(--sklearn-color-unfitted-level-1) 1pt solid;\n",
       "  color: var(--sklearn-color-unfitted-level-1);\n",
       "}\n",
       "\n",
       ".sk-estimator-doc-link.fitted,\n",
       "a:link.sk-estimator-doc-link.fitted,\n",
       "a:visited.sk-estimator-doc-link.fitted {\n",
       "  /* fitted */\n",
       "  border: var(--sklearn-color-fitted-level-1) 1pt solid;\n",
       "  color: var(--sklearn-color-fitted-level-1);\n",
       "}\n",
       "\n",
       "/* On hover */\n",
       "div.sk-estimator:hover .sk-estimator-doc-link:hover,\n",
       ".sk-estimator-doc-link:hover,\n",
       "div.sk-label-container:hover .sk-estimator-doc-link:hover,\n",
       ".sk-estimator-doc-link:hover {\n",
       "  /* unfitted */\n",
       "  background-color: var(--sklearn-color-unfitted-level-3);\n",
       "  color: var(--sklearn-color-background);\n",
       "  text-decoration: none;\n",
       "}\n",
       "\n",
       "div.sk-estimator.fitted:hover .sk-estimator-doc-link.fitted:hover,\n",
       ".sk-estimator-doc-link.fitted:hover,\n",
       "div.sk-label-container:hover .sk-estimator-doc-link.fitted:hover,\n",
       ".sk-estimator-doc-link.fitted:hover {\n",
       "  /* fitted */\n",
       "  background-color: var(--sklearn-color-fitted-level-3);\n",
       "  color: var(--sklearn-color-background);\n",
       "  text-decoration: none;\n",
       "}\n",
       "\n",
       "/* Span, style for the box shown on hovering the info icon */\n",
       ".sk-estimator-doc-link span {\n",
       "  display: none;\n",
       "  z-index: 9999;\n",
       "  position: relative;\n",
       "  font-weight: normal;\n",
       "  right: .2ex;\n",
       "  padding: .5ex;\n",
       "  margin: .5ex;\n",
       "  width: min-content;\n",
       "  min-width: 20ex;\n",
       "  max-width: 50ex;\n",
       "  color: var(--sklearn-color-text);\n",
       "  box-shadow: 2pt 2pt 4pt #999;\n",
       "  /* unfitted */\n",
       "  background: var(--sklearn-color-unfitted-level-0);\n",
       "  border: .5pt solid var(--sklearn-color-unfitted-level-3);\n",
       "}\n",
       "\n",
       ".sk-estimator-doc-link.fitted span {\n",
       "  /* fitted */\n",
       "  background: var(--sklearn-color-fitted-level-0);\n",
       "  border: var(--sklearn-color-fitted-level-3);\n",
       "}\n",
       "\n",
       ".sk-estimator-doc-link:hover span {\n",
       "  display: block;\n",
       "}\n",
       "\n",
       "/* \"?\"-specific style due to the `<a>` HTML tag */\n",
       "\n",
       "#sk-container-id-1 a.estimator_doc_link {\n",
       "  float: right;\n",
       "  font-size: 1rem;\n",
       "  line-height: 1em;\n",
       "  font-family: monospace;\n",
       "  background-color: var(--sklearn-color-background);\n",
       "  border-radius: 1rem;\n",
       "  height: 1rem;\n",
       "  width: 1rem;\n",
       "  text-decoration: none;\n",
       "  /* unfitted */\n",
       "  color: var(--sklearn-color-unfitted-level-1);\n",
       "  border: var(--sklearn-color-unfitted-level-1) 1pt solid;\n",
       "}\n",
       "\n",
       "#sk-container-id-1 a.estimator_doc_link.fitted {\n",
       "  /* fitted */\n",
       "  border: var(--sklearn-color-fitted-level-1) 1pt solid;\n",
       "  color: var(--sklearn-color-fitted-level-1);\n",
       "}\n",
       "\n",
       "/* On hover */\n",
       "#sk-container-id-1 a.estimator_doc_link:hover {\n",
       "  /* unfitted */\n",
       "  background-color: var(--sklearn-color-unfitted-level-3);\n",
       "  color: var(--sklearn-color-background);\n",
       "  text-decoration: none;\n",
       "}\n",
       "\n",
       "#sk-container-id-1 a.estimator_doc_link.fitted:hover {\n",
       "  /* fitted */\n",
       "  background-color: var(--sklearn-color-fitted-level-3);\n",
       "}\n",
       "\n",
       ".estimator-table summary {\n",
       "    padding: .5rem;\n",
       "    font-family: monospace;\n",
       "    cursor: pointer;\n",
       "}\n",
       "\n",
       ".estimator-table details[open] {\n",
       "    padding-left: 0.1rem;\n",
       "    padding-right: 0.1rem;\n",
       "    padding-bottom: 0.3rem;\n",
       "}\n",
       "\n",
       ".estimator-table .parameters-table {\n",
       "    margin-left: auto !important;\n",
       "    margin-right: auto !important;\n",
       "}\n",
       "\n",
       ".estimator-table .parameters-table tr:nth-child(odd) {\n",
       "    background-color: #fff;\n",
       "}\n",
       "\n",
       ".estimator-table .parameters-table tr:nth-child(even) {\n",
       "    background-color: #f6f6f6;\n",
       "}\n",
       "\n",
       ".estimator-table .parameters-table tr:hover {\n",
       "    background-color: #e0e0e0;\n",
       "}\n",
       "\n",
       ".estimator-table table td {\n",
       "    border: 1px solid rgba(106, 105, 104, 0.232);\n",
       "}\n",
       "\n",
       ".user-set td {\n",
       "    color:rgb(255, 94, 0);\n",
       "    text-align: left;\n",
       "}\n",
       "\n",
       ".user-set td.value pre {\n",
       "    color:rgb(255, 94, 0) !important;\n",
       "    background-color: transparent !important;\n",
       "}\n",
       "\n",
       ".default td {\n",
       "    color: black;\n",
       "    text-align: left;\n",
       "}\n",
       "\n",
       ".user-set td i,\n",
       ".default td i {\n",
       "    color: black;\n",
       "}\n",
       "\n",
       ".copy-paste-icon {\n",
       "    background-image: url(data:image/svg+xml;base64,PHN2ZyB4bWxucz0iaHR0cDovL3d3dy53My5vcmcvMjAwMC9zdmciIHZpZXdCb3g9IjAgMCA0NDggNTEyIj48IS0tIUZvbnQgQXdlc29tZSBGcmVlIDYuNy4yIGJ5IEBmb250YXdlc29tZSAtIGh0dHBzOi8vZm9udGF3ZXNvbWUuY29tIExpY2Vuc2UgLSBodHRwczovL2ZvbnRhd2Vzb21lLmNvbS9saWNlbnNlL2ZyZWUgQ29weXJpZ2h0IDIwMjUgRm9udGljb25zLCBJbmMuLS0+PHBhdGggZD0iTTIwOCAwTDMzMi4xIDBjMTIuNyAwIDI0LjkgNS4xIDMzLjkgMTQuMWw2Ny45IDY3LjljOSA5IDE0LjEgMjEuMiAxNC4xIDMzLjlMNDQ4IDMzNmMwIDI2LjUtMjEuNSA0OC00OCA0OGwtMTkyIDBjLTI2LjUgMC00OC0yMS41LTQ4LTQ4bDAtMjg4YzAtMjYuNSAyMS41LTQ4IDQ4LTQ4ek00OCAxMjhsODAgMCAwIDY0LTY0IDAgMCAyNTYgMTkyIDAgMC0zMiA2NCAwIDAgNDhjMCAyNi41LTIxLjUgNDgtNDggNDhMNDggNTEyYy0yNi41IDAtNDgtMjEuNS00OC00OEwwIDE3NmMwLTI2LjUgMjEuNS00OCA0OC00OHoiLz48L3N2Zz4=);\n",
       "    background-repeat: no-repeat;\n",
       "    background-size: 14px 14px;\n",
       "    background-position: 0;\n",
       "    display: inline-block;\n",
       "    width: 14px;\n",
       "    height: 14px;\n",
       "    cursor: pointer;\n",
       "}\n",
       "</style><body><div id=\"sk-container-id-1\" class=\"sk-top-container\"><div class=\"sk-text-repr-fallback\"><pre>LinearRegression()</pre><b>In a Jupyter environment, please rerun this cell to show the HTML representation or trust the notebook. <br />On GitHub, the HTML representation is unable to render, please try loading this page with nbviewer.org.</b></div><div class=\"sk-container\" hidden><div class=\"sk-item\"><div class=\"sk-estimator fitted sk-toggleable\"><input class=\"sk-toggleable__control sk-hidden--visually\" id=\"sk-estimator-id-1\" type=\"checkbox\" checked><label for=\"sk-estimator-id-1\" class=\"sk-toggleable__label fitted sk-toggleable__label-arrow\"><div><div>LinearRegression</div></div><div><a class=\"sk-estimator-doc-link fitted\" rel=\"noreferrer\" target=\"_blank\" href=\"https://scikit-learn.org/1.7/modules/generated/sklearn.linear_model.LinearRegression.html\">?<span>Documentation for LinearRegression</span></a><span class=\"sk-estimator-doc-link fitted\">i<span>Fitted</span></span></div></label><div class=\"sk-toggleable__content fitted\" data-param-prefix=\"\">\n",
       "        <div class=\"estimator-table\">\n",
       "            <details>\n",
       "                <summary>Parameters</summary>\n",
       "                <table class=\"parameters-table\">\n",
       "                  <tbody>\n",
       "                    \n",
       "        <tr class=\"default\">\n",
       "            <td><i class=\"copy-paste-icon\"\n",
       "                 onclick=\"copyToClipboard('fit_intercept',\n",
       "                          this.parentElement.nextElementSibling)\"\n",
       "            ></i></td>\n",
       "            <td class=\"param\">fit_intercept&nbsp;</td>\n",
       "            <td class=\"value\">True</td>\n",
       "        </tr>\n",
       "    \n",
       "\n",
       "        <tr class=\"default\">\n",
       "            <td><i class=\"copy-paste-icon\"\n",
       "                 onclick=\"copyToClipboard('copy_X',\n",
       "                          this.parentElement.nextElementSibling)\"\n",
       "            ></i></td>\n",
       "            <td class=\"param\">copy_X&nbsp;</td>\n",
       "            <td class=\"value\">True</td>\n",
       "        </tr>\n",
       "    \n",
       "\n",
       "        <tr class=\"default\">\n",
       "            <td><i class=\"copy-paste-icon\"\n",
       "                 onclick=\"copyToClipboard('tol',\n",
       "                          this.parentElement.nextElementSibling)\"\n",
       "            ></i></td>\n",
       "            <td class=\"param\">tol&nbsp;</td>\n",
       "            <td class=\"value\">1e-06</td>\n",
       "        </tr>\n",
       "    \n",
       "\n",
       "        <tr class=\"default\">\n",
       "            <td><i class=\"copy-paste-icon\"\n",
       "                 onclick=\"copyToClipboard('n_jobs',\n",
       "                          this.parentElement.nextElementSibling)\"\n",
       "            ></i></td>\n",
       "            <td class=\"param\">n_jobs&nbsp;</td>\n",
       "            <td class=\"value\">None</td>\n",
       "        </tr>\n",
       "    \n",
       "\n",
       "        <tr class=\"default\">\n",
       "            <td><i class=\"copy-paste-icon\"\n",
       "                 onclick=\"copyToClipboard('positive',\n",
       "                          this.parentElement.nextElementSibling)\"\n",
       "            ></i></td>\n",
       "            <td class=\"param\">positive&nbsp;</td>\n",
       "            <td class=\"value\">False</td>\n",
       "        </tr>\n",
       "    \n",
       "                  </tbody>\n",
       "                </table>\n",
       "            </details>\n",
       "        </div>\n",
       "    </div></div></div></div></div><script>function copyToClipboard(text, element) {\n",
       "    // Get the parameter prefix from the closest toggleable content\n",
       "    const toggleableContent = element.closest('.sk-toggleable__content');\n",
       "    const paramPrefix = toggleableContent ? toggleableContent.dataset.paramPrefix : '';\n",
       "    const fullParamName = paramPrefix ? `${paramPrefix}${text}` : text;\n",
       "\n",
       "    const originalStyle = element.style;\n",
       "    const computedStyle = window.getComputedStyle(element);\n",
       "    const originalWidth = computedStyle.width;\n",
       "    const originalHTML = element.innerHTML.replace('Copied!', '');\n",
       "\n",
       "    navigator.clipboard.writeText(fullParamName)\n",
       "        .then(() => {\n",
       "            element.style.width = originalWidth;\n",
       "            element.style.color = 'green';\n",
       "            element.innerHTML = \"Copied!\";\n",
       "\n",
       "            setTimeout(() => {\n",
       "                element.innerHTML = originalHTML;\n",
       "                element.style = originalStyle;\n",
       "            }, 2000);\n",
       "        })\n",
       "        .catch(err => {\n",
       "            console.error('Failed to copy:', err);\n",
       "            element.style.color = 'red';\n",
       "            element.innerHTML = \"Failed!\";\n",
       "            setTimeout(() => {\n",
       "                element.innerHTML = originalHTML;\n",
       "                element.style = originalStyle;\n",
       "            }, 2000);\n",
       "        });\n",
       "    return false;\n",
       "}\n",
       "\n",
       "document.querySelectorAll('.fa-regular.fa-copy').forEach(function(element) {\n",
       "    const toggleableContent = element.closest('.sk-toggleable__content');\n",
       "    const paramPrefix = toggleableContent ? toggleableContent.dataset.paramPrefix : '';\n",
       "    const paramName = element.parentElement.nextElementSibling.textContent.trim();\n",
       "    const fullParamName = paramPrefix ? `${paramPrefix}${paramName}` : paramName;\n",
       "\n",
       "    element.setAttribute('title', fullParamName);\n",
       "});\n",
       "</script></body>"
      ]
     },
     "execution_count": 11,
     "metadata": {},
     "output_type": "execute_result"
    }
   ],
   "execution_count": 11
  },
  {
   "metadata": {
    "ExecuteTime": {
     "end_time": "2025-09-26T00:55:39.022175Z",
     "start_time": "2025-09-26T00:55:39.015934Z"
    }
   },
   "cell_type": "code",
   "source": "lr.coef_",
   "id": "1d3ef069a3c82be4",
   "outputs": [
    {
     "data": {
      "text/plain": [
       "array([0.04533392, 0.17715767, 0.00553852])"
      ]
     },
     "execution_count": 12,
     "metadata": {},
     "output_type": "execute_result"
    }
   ],
   "execution_count": 12
  },
  {
   "metadata": {
    "ExecuteTime": {
     "end_time": "2025-09-26T00:55:39.606013Z",
     "start_time": "2025-09-26T00:55:39.600128Z"
    }
   },
   "cell_type": "code",
   "source": "lr.intercept_",
   "id": "291442c1a7743a04",
   "outputs": [
    {
     "data": {
      "text/plain": [
       "np.float64(3.0906443641251116)"
      ]
     },
     "execution_count": 13,
     "metadata": {},
     "output_type": "execute_result"
    }
   ],
   "execution_count": 13
  },
  {
   "metadata": {
    "ExecuteTime": {
     "end_time": "2025-09-26T00:55:40.164620Z",
     "start_time": "2025-09-26T00:55:40.152374Z"
    }
   },
   "cell_type": "code",
   "source": "X_test[:5]",
   "id": "295e1467b9cb10eb",
   "outputs": [
    {
     "data": {
      "text/plain": [
       "        TV  radio  newspaper\n",
       "12   214.7   24.0        4.0\n",
       "100  135.2   41.7       45.9\n",
       "129  220.3   49.0        3.2\n",
       "176  276.9   48.9       41.8\n",
       "2     44.5   39.3       45.1"
      ],
      "text/html": [
       "<div>\n",
       "<style scoped>\n",
       "    .dataframe tbody tr th:only-of-type {\n",
       "        vertical-align: middle;\n",
       "    }\n",
       "\n",
       "    .dataframe tbody tr th {\n",
       "        vertical-align: top;\n",
       "    }\n",
       "\n",
       "    .dataframe thead th {\n",
       "        text-align: right;\n",
       "    }\n",
       "</style>\n",
       "<table border=\"1\" class=\"dataframe\">\n",
       "  <thead>\n",
       "    <tr style=\"text-align: right;\">\n",
       "      <th></th>\n",
       "      <th>TV</th>\n",
       "      <th>radio</th>\n",
       "      <th>newspaper</th>\n",
       "    </tr>\n",
       "  </thead>\n",
       "  <tbody>\n",
       "    <tr>\n",
       "      <th>12</th>\n",
       "      <td>214.7</td>\n",
       "      <td>24.0</td>\n",
       "      <td>4.0</td>\n",
       "    </tr>\n",
       "    <tr>\n",
       "      <th>100</th>\n",
       "      <td>135.2</td>\n",
       "      <td>41.7</td>\n",
       "      <td>45.9</td>\n",
       "    </tr>\n",
       "    <tr>\n",
       "      <th>129</th>\n",
       "      <td>220.3</td>\n",
       "      <td>49.0</td>\n",
       "      <td>3.2</td>\n",
       "    </tr>\n",
       "    <tr>\n",
       "      <th>176</th>\n",
       "      <td>276.9</td>\n",
       "      <td>48.9</td>\n",
       "      <td>41.8</td>\n",
       "    </tr>\n",
       "    <tr>\n",
       "      <th>2</th>\n",
       "      <td>44.5</td>\n",
       "      <td>39.3</td>\n",
       "      <td>45.1</td>\n",
       "    </tr>\n",
       "  </tbody>\n",
       "</table>\n",
       "</div>"
      ]
     },
     "execution_count": 14,
     "metadata": {},
     "output_type": "execute_result"
    }
   ],
   "execution_count": 14
  },
  {
   "metadata": {},
   "cell_type": "markdown",
   "source": [
    "## 4. Prediction\n",
    "With the trained model, you make predictions on unseen test data:\n",
    "* Inputs: the advertising budgets in X_test.\n",
    "* Outputs: predicted sales y_pred_test.\n",
    "This step checks how well the model generalizes beyond the training examples."
   ],
   "id": "1622edf62461d6ea"
  },
  {
   "metadata": {
    "ExecuteTime": {
     "end_time": "2025-09-26T00:55:44.354308Z",
     "start_time": "2025-09-26T00:55:44.348069Z"
    }
   },
   "cell_type": "code",
   "source": "y_pred_test = lr.predict(X_test)",
   "id": "494ec4f5c028246a",
   "outputs": [],
   "execution_count": 15
  },
  {
   "metadata": {
    "ExecuteTime": {
     "end_time": "2025-09-26T00:55:44.735750Z",
     "start_time": "2025-09-26T00:55:44.729425Z"
    }
   },
   "cell_type": "code",
   "source": "y_pred_test",
   "id": "ffe1df48e32b831f",
   "outputs": [
    {
     "data": {
      "text/plain": [
       "array([17.09777441, 16.86148273, 21.7761552 , 24.53812602, 12.32008724,\n",
       "       20.9083371 , 10.09857022, 12.38326275, 12.01767713, 16.939182  ,\n",
       "       22.8039863 , 15.18438755,  8.45988902, 14.86958246, 18.5360064 ,\n",
       "       18.5391287 , 18.67614759, 14.5131948 ,  9.74192603, 20.57441729,\n",
       "       14.89243548, 17.70102466, 23.04193509,  7.718106  , 21.42075683,\n",
       "       19.62792915, 13.79733409, 11.63827129, 18.42655599, 12.19463761,\n",
       "       11.40777433,  9.96083851, 13.49436555, 15.18912412, 18.09830593,\n",
       "        6.92815403, 14.21050378, 14.27217178, 14.10451207, 10.77723418,\n",
       "       14.82936609, 11.96507878, 10.69651541, 10.40851022,  6.21159776,\n",
       "       16.82112487, 16.4659736 , 12.07626636, 10.75281419, 20.84690688,\n",
       "       15.09266208, 15.39499668, 13.27964587, 14.1081843 , 12.38574411,\n",
       "        9.03289588, 20.48246311,  9.3517132 ,  5.36311192,  8.24848891])"
      ]
     },
     "execution_count": 16,
     "metadata": {},
     "output_type": "execute_result"
    }
   ],
   "execution_count": 16
  },
  {
   "metadata": {},
   "cell_type": "markdown",
   "source": [
    "## Evaluation\n",
    "* MSE (Mean Squared Error) – average of squared prediction errors.\n",
    "* RMSE (Root Mean Squared Error) – interpretable in the same units as sales.\n",
    "* MAE (Mean Absolute Error) – average of absolute prediction errors.\n",
    "* R² score – fraction of variance in sales explained by the model (1.0 is perfect fit).\n",
    "These metrics show how closely predictions match actual sales."
   ],
   "id": "a449b5f42a794f67"
  },
  {
   "metadata": {
    "ExecuteTime": {
     "end_time": "2025-09-26T00:55:47.848066Z",
     "start_time": "2025-09-26T00:55:47.843996Z"
    }
   },
   "cell_type": "code",
   "source": "from sklearn.metrics import mean_squared_error, mean_absolute_error, root_mean_squared_error, r2_score",
   "id": "a899adf83c35c76d",
   "outputs": [],
   "execution_count": 17
  },
  {
   "metadata": {
    "ExecuteTime": {
     "end_time": "2025-09-26T00:55:48.429907Z",
     "start_time": "2025-09-26T00:55:48.421337Z"
    }
   },
   "cell_type": "code",
   "source": [
    "print(f\"MSE is {mean_squared_error(y_test, y_pred_test)}\")\n",
    "print(f\"RMSE is {root_mean_squared_error(y_test, y_pred_test)}\")\n",
    "print(f\"MAE is {mean_absolute_error(y_test, y_pred_test)}\")"
   ],
   "id": "232e03829ba6cbda",
   "outputs": [
    {
     "name": "stdout",
     "output_type": "stream",
     "text": [
      "MSE is 2.2237746679115578\n",
      "RMSE is 1.4912326002041256\n",
      "MAE is 1.2111525124980485\n"
     ]
    }
   ],
   "execution_count": 18
  },
  {
   "metadata": {},
   "cell_type": "markdown",
   "source": [
    "### R2 Score\n",
    "How much variance can be explained by the given feature"
   ],
   "id": "b9accc03cd646901"
  },
  {
   "metadata": {
    "ExecuteTime": {
     "end_time": "2025-09-26T00:55:49.358321Z",
     "start_time": "2025-09-26T00:55:49.352131Z"
    }
   },
   "cell_type": "code",
   "source": "print(f\"R2-score is {r2_score(y_test, y_pred_test)}\")",
   "id": "656ff8dd750a3a81",
   "outputs": [
    {
     "name": "stdout",
     "output_type": "stream",
     "text": [
      "R2-score is 0.9127220729596172\n"
     ]
    }
   ],
   "execution_count": 19
  },
  {
   "metadata": {},
   "cell_type": "markdown",
   "source": [
    "```vbnet\n",
    "Dataset\n",
    "   │\n",
    "   ├─► Sampling → Training Set ─► Train ML Model ─► Trained Model\n",
    "   │                                 │\n",
    "   │                                 ▼\n",
    "   │                         Prediction on Test Set\n",
    "   │                                 │\n",
    "   └─► Test Set ─────────────────────┘\n",
    "                                      │\n",
    "                                      ▼\n",
    "                             Evaluation (MSE, RMSE, MAE, R²)\n",
    "```"
   ],
   "id": "12a186eb1f2c737f"
  },
  {
   "metadata": {},
   "cell_type": "markdown",
   "source": [
    "## Regularization\n",
    "\n",
    "### Why Regularization?\n",
    "Linear regression tries to find coefficients (weights) that minimize error on training data.\n",
    "* **Problem:** If features are highly correlated or you have many of them, coefficients can grow very large (overfitting).\n",
    "* **Solution:** Regularization adds a penalty on large coefficients so the model is simpler and generalizes better.\n",
    "Mathematically, we modify the cost (loss) function:\n",
    "```\n",
    "Ordinary Least Squares (OLS):\n",
    "   Minimize   Σ(y - ŷ)²\n",
    "\n",
    "Regularized Regression:\n",
    "   Minimize   Σ(y - ŷ)² + penalty( coefficients )\n",
    "```\n",
    "Different penalties → different regularization methods."
   ],
   "id": "9fccb2aff427436a"
  },
  {
   "metadata": {},
   "cell_type": "markdown",
   "source": [
    "## L1 (Lasso) Regularization\n",
    "\n",
    "L1 (Lasso) Regularization\n",
    "\n",
    "Idea\n",
    "Add a penalty proportional to the absolute value of coefficients:\n",
    "$$ \\min_{w} \\left[ \\sum_{i=1}^{n} \\bigl(y_i - \\hat{y}_i \\bigr)^2 + \\alpha \\sum_{j=1}^{p} \\lvert w_j \\rvert \\right] $$\n",
    "* α (alpha) controls strength of penalty.\n",
    "* Encourages some coefficients to shrink to exactly zero → feature selection.\n",
    "* Effect\n",
    "    * Sparsity: keeps only the most important features.\n",
    "    * Good when you suspect only a few predictors are truly relevant."
   ],
   "id": "ec203f3bc979aead"
  },
  {
   "metadata": {
    "ExecuteTime": {
     "end_time": "2025-09-26T00:55:50.650922Z",
     "start_time": "2025-09-26T00:55:50.638460Z"
    }
   },
   "cell_type": "code",
   "source": [
    "from sklearn.linear_model import Lasso\n",
    "las = Lasso()\n",
    "las.fit(X_train, y_train)\n",
    "y_pred_test = las.predict(X_test)\n",
    "print(f\"R2 score is {r2_score(y_test, y_pred_test)}\")"
   ],
   "id": "64c98b241337658b",
   "outputs": [
    {
     "name": "stdout",
     "output_type": "stream",
     "text": [
      "R2 score is 0.9112250903194142\n"
     ]
    }
   ],
   "execution_count": 20
  },
  {
   "metadata": {},
   "cell_type": "markdown",
   "source": [
    "## L2 (Ridge) Regularization\n",
    "\n",
    "Add a penalty proportional to the square of the coefficients:\n",
    "* Coefficients are shrunk towards zero, but usually not exactly zero.\n",
    "* Handles multicollinearity well.\n",
    "    * $$ \\min_{w} \\left[ \\sum_{i=1}^{n} \\bigl(y_i - \\hat{y}_i \\bigr)^2 + \\alpha \\sum_{j=1}^{p} w_j^2 \\right] $$\n",
    "* Effect: All features remain in the model, but their influence is reduced."
   ],
   "id": "c3854d5b14ef221b"
  },
  {
   "metadata": {
    "ExecuteTime": {
     "end_time": "2025-09-26T00:55:51.088876Z",
     "start_time": "2025-09-26T00:55:51.076927Z"
    }
   },
   "cell_type": "code",
   "source": [
    "from sklearn.linear_model import Ridge\n",
    "ridge = Ridge()\n",
    "ridge.fit(X_train, y_train)\n",
    "y_pred_test = ridge.predict(X_test)\n",
    "print(f\"R2 score is {r2_score(y_test, y_pred_test)}\")"
   ],
   "id": "450a8fbbb0393cb7",
   "outputs": [
    {
     "name": "stdout",
     "output_type": "stream",
     "text": [
      "R2 score is 0.9127183051915455\n"
     ]
    }
   ],
   "execution_count": 21
  },
  {
   "metadata": {},
   "cell_type": "markdown",
   "source": [
    "## ElasticNet Regularization (L1+L2)\n",
    "Combine Lasso and Ridge penalties:\n",
    "$$\n",
    "\\min_{w} \\left[ \\sum_{i=1}^{n} \\bigl(y_i - \\hat{y}_i \\bigr)^2\n",
    "   + \\alpha \\Bigl( \\rho \\sum_{j=1}^{p} \\lvert w_j \\rvert\n",
    "   + (1 - \\rho) \\sum_{j=1}^{p} w_j^2 \\Bigr) \\right]\n",
    "$$\n",
    "Effect\n",
    "* Keeps model balanced:\n",
    "    * Can zero-out some coefficients (L1 effect).\n",
    "    * Shrinks remaining ones smoothly (L2 effect).\n",
    "* Works well when you have many correlated features."
   ],
   "id": "83b23dbe2e258778"
  },
  {
   "metadata": {
    "ExecuteTime": {
     "end_time": "2025-09-26T00:55:51.148978Z",
     "start_time": "2025-09-26T00:55:51.141563Z"
    }
   },
   "cell_type": "code",
   "source": [
    "from sklearn.linear_model import ElasticNet\n",
    "elasticnet = ElasticNet()\n",
    "elasticnet.fit(X_train, y_train)\n",
    "y_pred_test = elasticnet.predict(X_test)\n",
    "print(f\"R2 score is {r2_score(y_test, y_pred_test)}\")"
   ],
   "id": "ac5dfbfaafe0e59d",
   "outputs": [
    {
     "name": "stdout",
     "output_type": "stream",
     "text": [
      "R2 score is 0.9117469302155123\n"
     ]
    }
   ],
   "execution_count": 22
  },
  {
   "metadata": {},
   "cell_type": "markdown",
   "source": "## Assumption of the Linear Relationship",
   "id": "21aee64c9c9aa04b"
  },
  {
   "metadata": {},
   "cell_type": "markdown",
   "source": [
    "### Linear relationship (pairplot)\n",
    "* What it shows: Simple (bivariate) relationships between each feature and sales.\n",
    "* Your observations match typical patterns on this dataset:\n",
    "    * TV vs sales: points roughly align along an upward line → clear linear trend.\n",
    "    * radio vs sales: still upward but more scatter → weaker linear trend.\n",
    "    * newspaper vs sales: diffuse cloud → little/no linear trend.\n",
    "* Caveat: Pairplots are bivariate; a feature that looks weak alone can still help in combination with others (interactions, shared variance)."
   ],
   "id": "c896c51aec7df7ad"
  },
  {
   "metadata": {
    "ExecuteTime": {
     "end_time": "2025-09-26T00:55:51.240626Z",
     "start_time": "2025-09-26T00:55:51.230094Z"
    }
   },
   "cell_type": "code",
   "source": [
    "## Linear Relationship between the feature and the target\n",
    "df.head()"
   ],
   "id": "7409f88d20392e05",
   "outputs": [
    {
     "data": {
      "text/plain": [
       "      TV  radio  newspaper  sales\n",
       "1  230.1   37.8       69.2   22.1\n",
       "2   44.5   39.3       45.1   10.4\n",
       "3   17.2   45.9       69.3    9.3\n",
       "4  151.5   41.3       58.5   18.5\n",
       "5  180.8   10.8       58.4   12.9"
      ],
      "text/html": [
       "<div>\n",
       "<style scoped>\n",
       "    .dataframe tbody tr th:only-of-type {\n",
       "        vertical-align: middle;\n",
       "    }\n",
       "\n",
       "    .dataframe tbody tr th {\n",
       "        vertical-align: top;\n",
       "    }\n",
       "\n",
       "    .dataframe thead th {\n",
       "        text-align: right;\n",
       "    }\n",
       "</style>\n",
       "<table border=\"1\" class=\"dataframe\">\n",
       "  <thead>\n",
       "    <tr style=\"text-align: right;\">\n",
       "      <th></th>\n",
       "      <th>TV</th>\n",
       "      <th>radio</th>\n",
       "      <th>newspaper</th>\n",
       "      <th>sales</th>\n",
       "    </tr>\n",
       "  </thead>\n",
       "  <tbody>\n",
       "    <tr>\n",
       "      <th>1</th>\n",
       "      <td>230.1</td>\n",
       "      <td>37.8</td>\n",
       "      <td>69.2</td>\n",
       "      <td>22.1</td>\n",
       "    </tr>\n",
       "    <tr>\n",
       "      <th>2</th>\n",
       "      <td>44.5</td>\n",
       "      <td>39.3</td>\n",
       "      <td>45.1</td>\n",
       "      <td>10.4</td>\n",
       "    </tr>\n",
       "    <tr>\n",
       "      <th>3</th>\n",
       "      <td>17.2</td>\n",
       "      <td>45.9</td>\n",
       "      <td>69.3</td>\n",
       "      <td>9.3</td>\n",
       "    </tr>\n",
       "    <tr>\n",
       "      <th>4</th>\n",
       "      <td>151.5</td>\n",
       "      <td>41.3</td>\n",
       "      <td>58.5</td>\n",
       "      <td>18.5</td>\n",
       "    </tr>\n",
       "    <tr>\n",
       "      <th>5</th>\n",
       "      <td>180.8</td>\n",
       "      <td>10.8</td>\n",
       "      <td>58.4</td>\n",
       "      <td>12.9</td>\n",
       "    </tr>\n",
       "  </tbody>\n",
       "</table>\n",
       "</div>"
      ]
     },
     "execution_count": 23,
     "metadata": {},
     "output_type": "execute_result"
    }
   ],
   "execution_count": 23
  },
  {
   "metadata": {
    "ExecuteTime": {
     "end_time": "2025-09-26T00:55:51.627910Z",
     "start_time": "2025-09-26T00:55:51.352649Z"
    }
   },
   "cell_type": "code",
   "source": [
    "import seaborn as sns\n",
    "sns.pairplot(df, x_vars=['TV','radio','newspaper'], y_vars=['sales'])\n",
    "plt.show()"
   ],
   "id": "9f8c35c65e6bdcbb",
   "outputs": [
    {
     "data": {
      "text/plain": [
       "<Figure size 750x250 with 3 Axes>"
      ],
      "image/png": "[encoded data removed]"
     },
     "metadata": {},
     "output_type": "display_data"
    }
   ],
   "execution_count": 24
  },
  {
   "metadata": {},
   "cell_type": "markdown",
   "source": [
    "## Correlation matrix (Pearson r)\n",
    "\n",
    "* Interpretation: Strength and direction of linear association.\n",
    "* `TV–sales ≈ 0.78   radio–sales ≈ 0.58   newspaper–sales ≈ 0.23`\n",
    "    * TV has the strongest positive correlation with sales.\n",
    "    * Radio is moderate.\n",
    "    * Newspaper is weak.\n",
    "\n",
    "Note: Correlation ≠ causation, and it’s still bivariate. In multiple regression, a feature with low marginal correlation can gain/lose importance when others are present."
   ],
   "id": "bfa438ef7c08722d"
  },
  {
   "metadata": {
    "ExecuteTime": {
     "end_time": "2025-09-26T00:55:51.722253Z",
     "start_time": "2025-09-26T00:55:51.714413Z"
    }
   },
   "cell_type": "code",
   "source": [
    "corr = df.corr()\n",
    "corr.head()"
   ],
   "id": "e5b72bbf151d921d",
   "outputs": [
    {
     "data": {
      "text/plain": [
       "                 TV     radio  newspaper     sales\n",
       "TV         1.000000  0.054809   0.056648  0.782224\n",
       "radio      0.054809  1.000000   0.354104  0.576223\n",
       "newspaper  0.056648  0.354104   1.000000  0.228299\n",
       "sales      0.782224  0.576223   0.228299  1.000000"
      ],
      "text/html": [
       "<div>\n",
       "<style scoped>\n",
       "    .dataframe tbody tr th:only-of-type {\n",
       "        vertical-align: middle;\n",
       "    }\n",
       "\n",
       "    .dataframe tbody tr th {\n",
       "        vertical-align: top;\n",
       "    }\n",
       "\n",
       "    .dataframe thead th {\n",
       "        text-align: right;\n",
       "    }\n",
       "</style>\n",
       "<table border=\"1\" class=\"dataframe\">\n",
       "  <thead>\n",
       "    <tr style=\"text-align: right;\">\n",
       "      <th></th>\n",
       "      <th>TV</th>\n",
       "      <th>radio</th>\n",
       "      <th>newspaper</th>\n",
       "      <th>sales</th>\n",
       "    </tr>\n",
       "  </thead>\n",
       "  <tbody>\n",
       "    <tr>\n",
       "      <th>TV</th>\n",
       "      <td>1.000000</td>\n",
       "      <td>0.054809</td>\n",
       "      <td>0.056648</td>\n",
       "      <td>0.782224</td>\n",
       "    </tr>\n",
       "    <tr>\n",
       "      <th>radio</th>\n",
       "      <td>0.054809</td>\n",
       "      <td>1.000000</td>\n",
       "      <td>0.354104</td>\n",
       "      <td>0.576223</td>\n",
       "    </tr>\n",
       "    <tr>\n",
       "      <th>newspaper</th>\n",
       "      <td>0.056648</td>\n",
       "      <td>0.354104</td>\n",
       "      <td>1.000000</td>\n",
       "      <td>0.228299</td>\n",
       "    </tr>\n",
       "    <tr>\n",
       "      <th>sales</th>\n",
       "      <td>0.782224</td>\n",
       "      <td>0.576223</td>\n",
       "      <td>0.228299</td>\n",
       "      <td>1.000000</td>\n",
       "    </tr>\n",
       "  </tbody>\n",
       "</table>\n",
       "</div>"
      ]
     },
     "execution_count": 25,
     "metadata": {},
     "output_type": "execute_result"
    }
   ],
   "execution_count": 25
  },
  {
   "metadata": {},
   "cell_type": "markdown",
   "source": [
    "## Residual mean (≈ 0)\n",
    "* We computed: mean(residual) ≈ -0.0756 on the test set.\n",
    "* In OLS with an intercept, the training residuals have mean exactly 0 (by construction).\n",
    "* On the test set, the mean residual is not guaranteed to be zero; a small value (like −0.076 in units of sales) is normal and typically negligible.\n",
    "\n",
    "### What are “errors” (residuals)?\n",
    "In regression, a residual is the difference between what really happened and what your model predicted. It tells you how far off the prediction was for each test observation.\n",
    "### Why plot their distribution?\n",
    "We plot a histogram (optionally with a KDE curve) to see the overall pattern of these errors.\n",
    "* For a well-behaved linear regression:\n",
    "    * Centered at 0 : Predictions are not systematically too high or too low.\n",
    "    * Symmetric, bell-shaped : Errors are equally likely to be positive or negative of a given size.\n",
    "    * No long tails or spikes : No unusually large misses (outliers) and variance is constant.\n",
    "    * A classic “good” histogram looks like a normal (Gaussian) bell curve centered at 0."
   ],
   "id": "b29c67887008b2b7"
  },
  {
   "metadata": {
    "ExecuteTime": {
     "end_time": "2025-09-26T00:55:52.056230Z",
     "start_time": "2025-09-26T00:55:52.052641Z"
    }
   },
   "cell_type": "code",
   "source": [
    "# mean residuals = 0\n",
    "residual = (y_test - y_pred_test)\n",
    "np.mean(residual)"
   ],
   "id": "e6e9095fcdd8095c",
   "outputs": [
    {
     "data": {
      "text/plain": [
       "np.float64(-0.07559702903921825)"
      ]
     },
     "execution_count": 26,
     "metadata": {},
     "output_type": "execute_result"
    }
   ],
   "execution_count": 26
  },
  {
   "metadata": {},
   "cell_type": "markdown",
   "source": [
    "## Distribution of errors (histogram + KDE)\n",
    "We’re checking the normality of residuals. For linear regression:\n",
    "* Prediction accuracy does not require normal residuals.\n",
    "* Inference (valid t-tests, CIs) benefits from approximate normality.\n",
    "* What to look for: bell shape, centered near 0, no heavy tails.\n",
    "* Follow-ups (more rigorous): Q–Q plot for normality, and residuals vs fitted plot for homoscedasticity (constant variance). A “megaphone” shape suggests heteroscedasticity."
   ],
   "id": "fa54fbb65c2a54d"
  },
  {
   "metadata": {
    "ExecuteTime": {
     "end_time": "2025-09-26T00:55:52.401265Z",
     "start_time": "2025-09-26T00:55:52.282071Z"
    }
   },
   "cell_type": "code",
   "source": [
    "# Normal Distribution of error terms\n",
    "sns.histplot(residual , kde=True)\n",
    "plt.show()"
   ],
   "id": "a04162730cd4f3bb",
   "outputs": [
    {
     "data": {
      "text/plain": [
       "<Figure size 640x480 with 1 Axes>"
      ],
      "image/png": "[encoded data removed]"
     },
     "metadata": {},
     "output_type": "display_data"
    }
   ],
   "execution_count": 27
  },
  {
   "metadata": {},
   "cell_type": "markdown",
   "source": [
    "## Multicollinearity (VIF)\n",
    "* `TV ≈ 2.49, radio ≈ 3.29, newspaper ≈ 3.06`\n",
    "* Interpretation: How much each coefficient’s variance is inflated by linear relationships with other features.\n",
    "    * Common rules of thumb:\n",
    "        * VIF > 5 (or > 10) often flagged as problematic.\n",
    "        * Your chosen threshold 4 is simply a more conservative cutoff.\n",
    "* Conclusion: All VIFs are below 4–5, so no serious multicollinearity here.\n",
    "* Why it matters: High multicollinearity → unstable coefficients, large standard errors, counterintuitive signs. If it occurs, consider:\n",
    "    * Removing/combining correlated features,\n",
    "    * Ridge (L2) regularization,\n",
    "    * PCA or domain-driven feature engineering."
   ],
   "id": "aec3bf51f2c941ca"
  },
  {
   "metadata": {
    "ExecuteTime": {
     "end_time": "2025-09-26T00:56:18.814980Z",
     "start_time": "2025-09-26T00:56:13.551999Z"
    }
   },
   "cell_type": "code",
   "source": [
    "! pip install statsmodels\n",
    "from statsmodels.stats.outliers_influence import variance_inflation_factor"
   ],
   "id": "b18869f41cde49ff",
   "outputs": [
    {
     "name": "stdout",
     "output_type": "stream",
     "text": [
      "Collecting statsmodels\r\n",
      "  Downloading statsmodels-0.14.5-cp313-cp313-manylinux2014_x86_64.manylinux_2_17_x86_64.manylinux_2_28_x86_64.whl.metadata (9.5 kB)\r\n",
      "Requirement already satisfied: numpy<3,>=1.22.3 in /home/san/miniconda/envs/mac-linux/lib/python3.13/site-packages (from statsmodels) (2.3.3)\r\n",
      "Requirement already satisfied: scipy!=1.9.2,>=1.8 in /home/san/miniconda/envs/mac-linux/lib/python3.13/site-packages (from statsmodels) (1.16.2)\r\n",
      "Requirement already satisfied: pandas!=2.1.0,>=1.4 in /home/san/miniconda/envs/mac-linux/lib/python3.13/site-packages (from statsmodels) (2.3.2)\r\n",
      "Collecting patsy>=0.5.6 (from statsmodels)\r\n",
      "  Downloading patsy-1.0.1-py2.py3-none-any.whl.metadata (3.3 kB)\r\n",
      "Requirement already satisfied: packaging>=21.3 in /home/san/miniconda/envs/mac-linux/lib/python3.13/site-packages (from statsmodels) (25.0)\r\n",
      "Requirement already satisfied: python-dateutil>=2.8.2 in /home/san/miniconda/envs/mac-linux/lib/python3.13/site-packages (from pandas!=2.1.0,>=1.4->statsmodels) (2.9.0.post0)\r\n",
      "Requirement already satisfied: pytz>=2020.1 in /home/san/miniconda/envs/mac-linux/lib/python3.13/site-packages (from pandas!=2.1.0,>=1.4->statsmodels) (2025.2)\r\n",
      "Requirement already satisfied: tzdata>=2022.7 in /home/san/miniconda/envs/mac-linux/lib/python3.13/site-packages (from pandas!=2.1.0,>=1.4->statsmodels) (2025.2)\r\n",
      "Requirement already satisfied: six>=1.5 in /home/san/miniconda/envs/mac-linux/lib/python3.13/site-packages (from python-dateutil>=2.8.2->pandas!=2.1.0,>=1.4->statsmodels) (1.17.0)\r\n",
      "Downloading statsmodels-0.14.5-cp313-cp313-manylinux2014_x86_64.manylinux_2_17_x86_64.manylinux_2_28_x86_64.whl (10.5 MB)\r\n",
      "\u001B[2K   \u001B[90m━━━━━━━━━━━━━━━━━━━━━━━━━━━━━━━━━━━━━━━━\u001B[0m \u001B[32m10.5/10.5 MB\u001B[0m \u001B[31m11.1 MB/s\u001B[0m  \u001B[33m0:00:01\u001B[0meta \u001B[36m0:00:01\u001B[0m\r\n",
      "\u001B[?25hDownloading patsy-1.0.1-py2.py3-none-any.whl (232 kB)\r\n",
      "Installing collected packages: patsy, statsmodels\r\n",
      "\u001B[2K   \u001B[90m━━━━━━━━━━━━━━━━━━━━━━━━━━━━━━━━━━━━━━━━\u001B[0m \u001B[32m2/2\u001B[0m [statsmodels]\u001B[0m [statsmodels]\r\n",
      "\u001B[1A\u001B[2KSuccessfully installed patsy-1.0.1 statsmodels-0.14.5\r\n"
     ]
    }
   ],
   "execution_count": 30
  },
  {
   "metadata": {
    "ExecuteTime": {
     "end_time": "2025-09-26T00:56:23.528474Z",
     "start_time": "2025-09-26T00:56:23.523080Z"
    }
   },
   "cell_type": "code",
   "source": [
    "def vif_score(X):\n",
    "    X_arr = X.values\n",
    "    vif = [variance_inflation_factor(X_arr,i) for i in range(X.shape[1])]\n",
    "    vif_score = pd.DataFrame()\n",
    "    vif_score['vif_score'] = vif\n",
    "    vif_score['Features']= X.columns\n",
    "    return vif_score"
   ],
   "id": "c3fed5e76705163b",
   "outputs": [],
   "execution_count": 31
  },
  {
   "metadata": {
    "ExecuteTime": {
     "end_time": "2025-09-26T00:56:24.729660Z",
     "start_time": "2025-09-26T00:56:24.712950Z"
    }
   },
   "cell_type": "code",
   "source": "vif_score(X)",
   "id": "a6ab8eda23e0da7b",
   "outputs": [
    {
     "data": {
      "text/plain": [
       "   vif_score   Features\n",
       "0   2.486772         TV\n",
       "1   3.285462      radio\n",
       "2   3.055245  newspaper"
      ],
      "text/html": [
       "<div>\n",
       "<style scoped>\n",
       "    .dataframe tbody tr th:only-of-type {\n",
       "        vertical-align: middle;\n",
       "    }\n",
       "\n",
       "    .dataframe tbody tr th {\n",
       "        vertical-align: top;\n",
       "    }\n",
       "\n",
       "    .dataframe thead th {\n",
       "        text-align: right;\n",
       "    }\n",
       "</style>\n",
       "<table border=\"1\" class=\"dataframe\">\n",
       "  <thead>\n",
       "    <tr style=\"text-align: right;\">\n",
       "      <th></th>\n",
       "      <th>vif_score</th>\n",
       "      <th>Features</th>\n",
       "    </tr>\n",
       "  </thead>\n",
       "  <tbody>\n",
       "    <tr>\n",
       "      <th>0</th>\n",
       "      <td>2.486772</td>\n",
       "      <td>TV</td>\n",
       "    </tr>\n",
       "    <tr>\n",
       "      <th>1</th>\n",
       "      <td>3.285462</td>\n",
       "      <td>radio</td>\n",
       "    </tr>\n",
       "    <tr>\n",
       "      <th>2</th>\n",
       "      <td>3.055245</td>\n",
       "      <td>newspaper</td>\n",
       "    </tr>\n",
       "  </tbody>\n",
       "</table>\n",
       "</div>"
      ]
     },
     "execution_count": 32,
     "metadata": {},
     "output_type": "execute_result"
    }
   ],
   "execution_count": 32
  },
  {
   "metadata": {},
   "cell_type": "markdown",
   "source": [
    "* If Vif_score > 4 --> MultiColinearity in the dataset\n",
    "* If Vif_score < 4 --> No MultiColinearity in the dataset"
   ],
   "id": "7de307b6809b2146"
  }
 ],
 "metadata": {},
 "nbformat": 4,
 "nbformat_minor": 5
}

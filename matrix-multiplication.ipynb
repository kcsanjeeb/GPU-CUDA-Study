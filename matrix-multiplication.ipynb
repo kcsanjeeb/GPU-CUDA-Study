{
 "cells": [
  {
   "metadata": {},
   "cell_type": "markdown",
   "source": "# Matrix Multiplication: Naive, Optimized, and CUDA Approaches",
   "id": "52e1b9ad3f0eef6a"
  },
  {
   "metadata": {},
   "cell_type": "markdown",
   "source": [
    "Matrix multiplication is a more complex operation than matrix addition. Given two matrices A of dimensions m ×n and B of dimensions n ×p, their product C is computed as:\n",
    "\n",
    "### Naive Implementation of Matrix Multiplication"
   ],
   "id": "119d0bf06ed79d91"
  },
  {
   "metadata": {
    "ExecuteTime": {
     "end_time": "2025-09-28T03:00:39.378059Z",
     "start_time": "2025-09-28T03:00:39.294049Z"
    }
   },
   "cell_type": "code",
   "source": [
    "import numpy as np\n",
    "\n",
    "A = np.array([[1, 2, 3], [4, 5, 6]])\n",
    "B = np.array([[7, 8, 9], [10, 11, 12], [13, 14, 15]])\n",
    "\n",
    "# Naive Matrix Multiplication\n",
    "\n",
    "C = np.zeros((A.shape[0], B.shape[1]))\n",
    "\n",
    "for i in range(A.shape[0]):\n",
    "    for j in range(B.shape[1]):\n",
    "        for k in range(A.shape[1]):\n",
    "            C[i, j] = A[i, k] * B[k, j]\n",
    "\n",
    "print(C)\n"
   ],
   "id": "6e77381025ba80f6",
   "outputs": [
    {
     "name": "stdout",
     "output_type": "stream",
     "text": [
      "[[39. 42. 45.]\n",
      " [78. 84. 90.]]\n"
     ]
    }
   ],
   "execution_count": 1
  },
  {
   "metadata": {},
   "cell_type": "markdown",
   "source": [
    "### Naive Matrix Multiplication\n",
    "The naive approach to matrix multiplication involves three nested loops: one for rows of matrix A,\n",
    "one for columns of matrix B, and one for summing the element-wise products. Here’s how you can\n",
    "implement this in Python:"
   ],
   "id": "94682dc813afed72"
  },
  {
   "metadata": {
    "ExecuteTime": {
     "end_time": "2025-09-28T03:03:43.943717Z",
     "start_time": "2025-09-28T03:03:43.935797Z"
    }
   },
   "cell_type": "code",
   "source": [
    "import numpy as np\n",
    "\n",
    "def naive_matrix_multiplication(A, B):\n",
    "    m,n = A.shape\n",
    "    n,p = B.shape\n",
    "    C = np.zeros((m,p))\n",
    "    for i in range(m):\n",
    "        for j in range(p):\n",
    "            for k in range(n):\n",
    "                C[i, j] = A[i, k] * B[k, j]\n",
    "    return C\n",
    "\n",
    "# Define two matrices\n",
    "A = np.array([[1, 2], [4, 5]])\n",
    "B = np.array([[7, 8 ], [10, 11]])\n",
    "\n",
    "C = naive_matrix_multiplication(A, B)\n",
    "print(C)"
   ],
   "id": "b59e40592b77e2d7",
   "outputs": [
    {
     "name": "stdout",
     "output_type": "stream",
     "text": [
      "[[20. 22.]\n",
      " [50. 55.]]\n"
     ]
    }
   ],
   "execution_count": 3
  },
  {
   "metadata": {},
   "cell_type": "markdown",
   "source": [
    "### Optimized Matrix Multiplication\n",
    "The naive matrix multiplication is inefficient because it repeatedly reads the same data from memory, causing memory latency issues. A more optimized approach involves using shared memory and leveraging matrix libraries like NumPy, which are highly optimized and make use of BLAS (Basic Linear Algebra Subprograms)\n",
    "\n",
    "### Using NumPy for Optimized Multiplication\n",
    "NumPy’s dot function is a highly optimized implementation of matrix multiplication."
   ],
   "id": "32c34945a7eba663"
  },
  {
   "metadata": {
    "ExecuteTime": {
     "end_time": "2025-09-28T03:05:01.021209Z",
     "start_time": "2025-09-28T03:05:01.015396Z"
    }
   },
   "cell_type": "code",
   "source": [
    "import numpy as np\n",
    "\n",
    "A = np.array([[1, 2], [4, 5]])\n",
    "B = np.array([[7, 8 ], [10, 11]])\n",
    "\n",
    "C = np.dot(A, B)\n",
    "print(C)"
   ],
   "id": "9592960da4e2fa4e",
   "outputs": [
    {
     "name": "stdout",
     "output_type": "stream",
     "text": [
      "[[27 30]\n",
      " [78 87]]\n"
     ]
    }
   ],
   "execution_count": 4
  },
  {
   "metadata": {},
   "cell_type": "markdown",
   "source": [
    "NumPy uses highly optimized libraries under the hood (like OpenBLAS or Intel MKL) to perform\n",
    "matrix multiplication efficiently, taking advantage of low-level optimizations such as data pre-fetching\n",
    "and cache reuse."
   ],
   "id": "e79da0704d07023f"
  },
  {
   "metadata": {},
   "cell_type": "markdown",
   "source": [
    "## Parallelizing Matrix Multiplication\n",
    "To parallelize matrix multiplication manually, we can break the operation down by assigning different rows of matrix A and different columns of matrix B to different threads. However, using optimized libraries like NumPy is often the best approach, as they already include multi-threading and SIMD (Single Instruction, Multiple Data) optimizations.\n",
    "Here’s an example of manually parallelizing matrix multiplication:"
   ],
   "id": "3bb75ad0b01cfa03"
  },
  {
   "metadata": {
    "ExecuteTime": {
     "end_time": "2025-09-28T04:47:27.197250Z",
     "start_time": "2025-09-28T04:47:27.125568Z"
    }
   },
   "cell_type": "code",
   "source": [
    "from concurrent.futures import ThreadPoolExecutor\n",
    "import numpy as np\n",
    "\n",
    "# Function to compute one row of matrix C\n",
    "def multiply_row(A_row, B):\n",
    "    return np.dot(A_row, B)\n",
    "\n",
    "# Parallel Matrix Multiplication\n",
    "def parallel_matrix_multiplication(A, B):\n",
    "    m = A.shape[0]\n",
    "    C = np.zeros((m,B.shape[1]))\n",
    "\n",
    "    with ThreadPoolExecutor() as executor:\n",
    "        results = list(executor.map(multiply_row, A, [B]*m))\n",
    "\n",
    "    return np.array(results)\n",
    "\n",
    "A = np.array([[1, 2], [4, 5]])\n",
    "B = np.array([[7, 8 ], [10, 11]])\n",
    "\n",
    "C = parallel_matrix_multiplication(A, B)\n",
    "print(C)"
   ],
   "id": "6209af7e80aba5a6",
   "outputs": [
    {
     "name": "stdout",
     "output_type": "stream",
     "text": [
      "[[27 30]\n",
      " [78 87]]\n"
     ]
    }
   ],
   "execution_count": 1
  },
  {
   "metadata": {},
   "cell_type": "code",
   "outputs": [],
   "execution_count": null,
   "source": "",
   "id": "a3a6da36145acfc4"
  }
 ],
 "metadata": {},
 "nbformat": 4,
 "nbformat_minor": 5
}

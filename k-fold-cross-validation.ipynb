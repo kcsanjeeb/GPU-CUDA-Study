{
 "cells": [
  {
   "metadata": {},
   "cell_type": "markdown",
   "source": [
    "# K Fold Cross Validation\n",
    "K-Fold Cross Validation is a technique to evaluate machine learning models by splitting the data into 'k' equal parts (folds), then training and testing the model 'k' times.\n",
    "\n",
    "### How It Works:\n",
    "1. Split data into k equal parts (folds)\n",
    "2. For each iteration:\n",
    "    * Use 1 fold as validation set\n",
    "    * Use remaining k-1 folds as training set\n",
    "    * Train model and calculate score\n",
    "3. Repeat k times, each time with different validation fold\n",
    "4. Final score = average of all k scores\n",
    "\n",
    "### Why Use It:\n",
    "1. Better estimate of model performance\n",
    "2. Uses all data for both training and validation\n",
    "3. Reduces variance compared to single train-test split\n",
    "4. Prevents overfitting evaluation"
   ],
   "id": "a09ab6d99878834f"
  },
  {
   "metadata": {},
   "cell_type": "markdown",
   "source": "![](./public/k-fold.png)",
   "id": "718902028f90900f"
  },
  {
   "metadata": {
    "ExecuteTime": {
     "end_time": "2025-09-29T03:26:31.685411Z",
     "start_time": "2025-09-29T03:26:31.659100Z"
    }
   },
   "cell_type": "code",
   "source": [
    "from sklearn.linear_model import LogisticRegression\n",
    "from sklearn.svm import SVC\n",
    "from sklearn.ensemble import RandomForestClassifier\n",
    "import numpy as np\n",
    "from sklearn.datasets import load_digits\n",
    "import matplotlib.pyplot as plt\n",
    "digits = load_digits()"
   ],
   "id": "8082de10241c66d6",
   "outputs": [],
   "execution_count": 3
  },
  {
   "metadata": {
    "ExecuteTime": {
     "end_time": "2025-09-29T03:26:31.830034Z",
     "start_time": "2025-09-29T03:26:31.824547Z"
    }
   },
   "cell_type": "code",
   "source": [
    "from sklearn.model_selection import train_test_split\n",
    "X_train, X_test, y_train, y_test = train_test_split(digits.data,digits.target,test_size=0.3)"
   ],
   "id": "241ff1b13dd80a49",
   "outputs": [],
   "execution_count": 4
  },
  {
   "metadata": {},
   "cell_type": "markdown",
   "source": "## Logistic Regression",
   "id": "59a7acb8333efe3f"
  },
  {
   "metadata": {
    "ExecuteTime": {
     "end_time": "2025-09-29T03:26:32.005259Z",
     "start_time": "2025-09-29T03:26:31.864492Z"
    }
   },
   "cell_type": "code",
   "source": [
    "lr = LogisticRegression(solver='liblinear',multi_class='ovr')\n",
    "lr.fit(X_train, y_train)\n",
    "lr.score(X_test, y_test)"
   ],
   "id": "37fbb5ff1520f3b1",
   "outputs": [
    {
     "name": "stderr",
     "output_type": "stream",
     "text": [
      "/home/san/miniconda/envs/mac-linux/lib/python3.13/site-packages/sklearn/linear_model/_logistic.py:1281: FutureWarning: 'multi_class' was deprecated in version 1.5 and will be removed in 1.8. Use OneVsRestClassifier(LogisticRegression(..)) instead. Leave it to its default value to avoid this warning.\n",
      "  warnings.warn(\n",
      "/home/san/miniconda/envs/mac-linux/lib/python3.13/site-packages/sklearn/linear_model/_logistic.py:1296: FutureWarning: Using the 'liblinear' solver for multiclass classification is deprecated. An error will be raised in 1.8. Either use another solver which supports the multinomial loss or wrap the estimator in a OneVsRestClassifier to keep applying a one-versus-rest scheme.\n",
      "  warnings.warn(\n"
     ]
    },
    {
     "data": {
      "text/plain": [
       "0.9592592592592593"
      ]
     },
     "execution_count": 5,
     "metadata": {},
     "output_type": "execute_result"
    }
   ],
   "execution_count": 5
  },
  {
   "metadata": {},
   "cell_type": "markdown",
   "source": "## SVM",
   "id": "aa7a6ee0e76a7115"
  },
  {
   "metadata": {
    "ExecuteTime": {
     "end_time": "2025-09-29T03:26:32.320402Z",
     "start_time": "2025-09-29T03:26:32.044615Z"
    }
   },
   "cell_type": "code",
   "source": [
    "svm = SVC(gamma='auto')\n",
    "svm.fit(X_train, y_train)\n",
    "svm.score(X_test, y_test)"
   ],
   "id": "ab0049bfa1ec516f",
   "outputs": [
    {
     "data": {
      "text/plain": [
       "0.4111111111111111"
      ]
     },
     "execution_count": 6,
     "metadata": {},
     "output_type": "execute_result"
    }
   ],
   "execution_count": 6
  },
  {
   "metadata": {},
   "cell_type": "markdown",
   "source": "## Random Forest",
   "id": "b5149625e56b2951"
  },
  {
   "metadata": {
    "ExecuteTime": {
     "end_time": "2025-09-29T03:26:32.503716Z",
     "start_time": "2025-09-29T03:26:32.371909Z"
    }
   },
   "cell_type": "code",
   "source": [
    "rf = RandomForestClassifier(n_estimators=40)\n",
    "rf.fit(X_train, y_train)\n",
    "rf.score(X_test, y_test)"
   ],
   "id": "aa61fe3fd5d08a0a",
   "outputs": [
    {
     "data": {
      "text/plain": [
       "0.9796296296296296"
      ]
     },
     "execution_count": 7,
     "metadata": {},
     "output_type": "execute_result"
    }
   ],
   "execution_count": 7
  },
  {
   "metadata": {},
   "cell_type": "markdown",
   "source": "## KFold cross validation",
   "id": "fa6f81f696202e28"
  },
  {
   "metadata": {},
   "cell_type": "markdown",
   "source": "### Basic example",
   "id": "555d6cbd518b4fef"
  },
  {
   "metadata": {
    "ExecuteTime": {
     "end_time": "2025-09-29T03:27:08.061255Z",
     "start_time": "2025-09-29T03:27:08.054680Z"
    }
   },
   "cell_type": "code",
   "source": [
    "from sklearn.model_selection import KFold\n",
    "kf = KFold(n_splits=3)\n",
    "kf"
   ],
   "id": "27dbe38ccfccfa1a",
   "outputs": [
    {
     "data": {
      "text/plain": [
       "KFold(n_splits=3, random_state=None, shuffle=False)"
      ]
     },
     "execution_count": 8,
     "metadata": {},
     "output_type": "execute_result"
    }
   ],
   "execution_count": 8
  },
  {
   "metadata": {
    "ExecuteTime": {
     "end_time": "2025-09-29T03:27:20.572719Z",
     "start_time": "2025-09-29T03:27:20.566243Z"
    }
   },
   "cell_type": "code",
   "source": [
    "for train_index, test_index in kf.split([1,2,3,4,5,6,7,8,9]):\n",
    "    print(train_index, test_index)"
   ],
   "id": "3bdf2578f6f70a4d",
   "outputs": [
    {
     "name": "stdout",
     "output_type": "stream",
     "text": [
      "[3 4 5 6 7 8] [0 1 2]\n",
      "[0 1 2 6 7 8] [3 4 5]\n",
      "[0 1 2 3 4 5] [6 7 8]\n"
     ]
    }
   ],
   "execution_count": 9
  },
  {
   "metadata": {},
   "cell_type": "markdown",
   "source": "## Use KFold for our digits example",
   "id": "f195ea18ea58f693"
  },
  {
   "metadata": {
    "ExecuteTime": {
     "end_time": "2025-09-29T03:27:43.630736Z",
     "start_time": "2025-09-29T03:27:43.626249Z"
    }
   },
   "cell_type": "code",
   "source": [
    "def get_score(model, X_train, X_test, y_train, y_test):\n",
    "    model.fit(X_train, y_train)\n",
    "    return model.score(X_test, y_test)"
   ],
   "id": "d703ba13a137e513",
   "outputs": [],
   "execution_count": 10
  },
  {
   "metadata": {
    "ExecuteTime": {
     "end_time": "2025-09-29T03:27:51.337872Z",
     "start_time": "2025-09-29T03:27:49.919632Z"
    }
   },
   "cell_type": "code",
   "source": [
    "from sklearn.model_selection import StratifiedKFold\n",
    "folds = StratifiedKFold(n_splits=3)\n",
    "\n",
    "scores_logistic = []\n",
    "scores_svm = []\n",
    "scores_rf = []\n",
    "\n",
    "for train_index, test_index in folds.split(digits.data,digits.target):\n",
    "    X_train, X_test, y_train, y_test = digits.data[train_index], digits.data[test_index], \\\n",
    "                                       digits.target[train_index], digits.target[test_index]\n",
    "    scores_logistic.append(get_score(LogisticRegression(solver='liblinear',multi_class='ovr'), X_train, X_test, y_train, y_test))\n",
    "    scores_svm.append(get_score(SVC(gamma='auto'), X_train, X_test, y_train, y_test))\n",
    "    scores_rf.append(get_score(RandomForestClassifier(n_estimators=40), X_train, X_test, y_train, y_test))"
   ],
   "id": "7c2465bbb45ab263",
   "outputs": [
    {
     "name": "stderr",
     "output_type": "stream",
     "text": [
      "/home/san/miniconda/envs/mac-linux/lib/python3.13/site-packages/sklearn/linear_model/_logistic.py:1281: FutureWarning: 'multi_class' was deprecated in version 1.5 and will be removed in 1.8. Use OneVsRestClassifier(LogisticRegression(..)) instead. Leave it to its default value to avoid this warning.\n",
      "  warnings.warn(\n",
      "/home/san/miniconda/envs/mac-linux/lib/python3.13/site-packages/sklearn/linear_model/_logistic.py:1296: FutureWarning: Using the 'liblinear' solver for multiclass classification is deprecated. An error will be raised in 1.8. Either use another solver which supports the multinomial loss or wrap the estimator in a OneVsRestClassifier to keep applying a one-versus-rest scheme.\n",
      "  warnings.warn(\n",
      "/home/san/miniconda/envs/mac-linux/lib/python3.13/site-packages/sklearn/linear_model/_logistic.py:1281: FutureWarning: 'multi_class' was deprecated in version 1.5 and will be removed in 1.8. Use OneVsRestClassifier(LogisticRegression(..)) instead. Leave it to its default value to avoid this warning.\n",
      "  warnings.warn(\n",
      "/home/san/miniconda/envs/mac-linux/lib/python3.13/site-packages/sklearn/linear_model/_logistic.py:1296: FutureWarning: Using the 'liblinear' solver for multiclass classification is deprecated. An error will be raised in 1.8. Either use another solver which supports the multinomial loss or wrap the estimator in a OneVsRestClassifier to keep applying a one-versus-rest scheme.\n",
      "  warnings.warn(\n",
      "/home/san/miniconda/envs/mac-linux/lib/python3.13/site-packages/sklearn/linear_model/_logistic.py:1281: FutureWarning: 'multi_class' was deprecated in version 1.5 and will be removed in 1.8. Use OneVsRestClassifier(LogisticRegression(..)) instead. Leave it to its default value to avoid this warning.\n",
      "  warnings.warn(\n",
      "/home/san/miniconda/envs/mac-linux/lib/python3.13/site-packages/sklearn/linear_model/_logistic.py:1296: FutureWarning: Using the 'liblinear' solver for multiclass classification is deprecated. An error will be raised in 1.8. Either use another solver which supports the multinomial loss or wrap the estimator in a OneVsRestClassifier to keep applying a one-versus-rest scheme.\n",
      "  warnings.warn(\n"
     ]
    }
   ],
   "execution_count": 11
  },
  {
   "metadata": {
    "ExecuteTime": {
     "end_time": "2025-09-29T03:27:56.800797Z",
     "start_time": "2025-09-29T03:27:56.794468Z"
    }
   },
   "cell_type": "code",
   "source": "scores_logistic",
   "id": "de07b4616344a05e",
   "outputs": [
    {
     "data": {
      "text/plain": [
       "[0.8948247078464107, 0.9532554257095158, 0.9098497495826378]"
      ]
     },
     "execution_count": 12,
     "metadata": {},
     "output_type": "execute_result"
    }
   ],
   "execution_count": 12
  },
  {
   "metadata": {
    "ExecuteTime": {
     "end_time": "2025-09-29T03:28:01.457695Z",
     "start_time": "2025-09-29T03:28:01.451882Z"
    }
   },
   "cell_type": "code",
   "source": "scores_svm",
   "id": "71e8e9ccc3206217",
   "outputs": [
    {
     "data": {
      "text/plain": [
       "[0.3806343906510851, 0.41068447412353926, 0.5125208681135225]"
      ]
     },
     "execution_count": 13,
     "metadata": {},
     "output_type": "execute_result"
    }
   ],
   "execution_count": 13
  },
  {
   "metadata": {
    "ExecuteTime": {
     "end_time": "2025-09-29T03:28:05.227774Z",
     "start_time": "2025-09-29T03:28:05.221947Z"
    }
   },
   "cell_type": "code",
   "source": "scores_rf",
   "id": "a0ac69836e2fc97",
   "outputs": [
    {
     "data": {
      "text/plain": [
       "[0.9449081803005008, 0.9382303839732888, 0.9198664440734557]"
      ]
     },
     "execution_count": 14,
     "metadata": {},
     "output_type": "execute_result"
    }
   ],
   "execution_count": 14
  },
  {
   "metadata": {},
   "cell_type": "code",
   "outputs": [],
   "execution_count": null,
   "source": "",
   "id": "b8160ae228ca9e92"
  }
 ],
 "metadata": {},
 "nbformat": 4,
 "nbformat_minor": 5
}

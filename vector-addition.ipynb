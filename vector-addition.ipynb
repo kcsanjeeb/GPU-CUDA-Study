{
 "cells": [
  {
   "metadata": {},
   "cell_type": "markdown",
   "source": "# Vector Addition: The Fundamentals",
   "id": "3b99fb84e64ad23a"
  },
  {
   "metadata": {},
   "cell_type": "markdown",
   "source": [
    "One of the simplest operations you can perform on a GPU is vector addition. This involves adding two\n",
    "arrays element-wise. The advantage of using a GPU is that you can perform multiple operations in\n",
    "parallel, which can drastically improve performance.\n",
    "In CUDA, we use threads to perform the addition of the vectors. Each thread handles the computation\n",
    "for one element in the vector. The idea is to map each thread to one data element, allowing the\n",
    "GPU to compute the sum of the entire array in parallel.\n",
    "\n",
    "Let’s assume we have two vectorsAandB, each withN elements. The task is to add them together\n",
    "to produce a third vector C, where C[i] = A[i] + B[i]."
   ],
   "id": "af56f97799084690"
  },
  {
   "metadata": {},
   "cell_type": "code",
   "outputs": [],
   "execution_count": null,
   "source": "",
   "id": "34c491b9db4d9fb1"
  }
 ],
 "metadata": {},
 "nbformat": 4,
 "nbformat_minor": 5
}

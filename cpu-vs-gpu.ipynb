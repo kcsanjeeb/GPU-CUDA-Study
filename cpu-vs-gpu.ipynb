{
 "cells": [
  {
   "metadata": {},
   "cell_type": "markdown",
   "source": [
    "### Example: Sequential operations in Python\n",
    "Consider the following Python code that demonstrates how a CPU would handle a series of sequential\n",
    "operations, such as iterating through a list and performing a calculation on each item. Since\n",
    "CPUs are optimized for single-threaded operations, this is a typical example of the type of task where\n",
    "they excel."
   ],
   "id": "d05e12abc98d3f3c"
  },
  {
   "metadata": {
    "ExecuteTime": {
     "end_time": "2025-09-25T12:49:00.895821Z",
     "start_time": "2025-09-25T12:49:00.889744Z"
    }
   },
   "cell_type": "code",
   "source": [
    "numbers = [1,2,3,4,5,6,7,8,9]\n",
    "squared_numbers = []\n",
    "\n",
    "for number in numbers:\n",
    "    squared_numbers.append(number ** 2)\n",
    "\n",
    "print(squared_numbers)"
   ],
   "id": "913ae932a9bb7309",
   "outputs": [
    {
     "name": "stdout",
     "output_type": "stream",
     "text": [
      "[1, 4, 9, 16, 25, 36, 49, 64, 81]\n"
     ]
    }
   ],
   "execution_count": 2
  },
  {
   "metadata": {},
   "cell_type": "markdown",
   "source": [
    "In this case, the CPU performs each iteration of the loop one after the other in a linear sequence,\n",
    "quickly handling each task."
   ],
   "id": "2f4e04eec6c2c301"
  },
  {
   "metadata": {},
   "cell_type": "markdown",
   "source": [
    "Example 2: Parallel operations in Python using TensorFlow\n",
    "In this example, we will demonstrate how to use TensorFlow to perform parallel matrix operations on a GPU. TensorFlow automatically detects available GPUs and offloads operations to them."
   ],
   "id": "c925ab8d666653e5"
  },
  {
   "metadata": {},
   "cell_type": "markdown",
   "source": "",
   "id": "d6be763385d6fb86"
  },
  {
   "metadata": {
    "ExecuteTime": {
     "end_time": "2025-09-25T14:41:34.438111Z",
     "start_time": "2025-09-25T12:51:03.526526Z"
    }
   },
   "cell_type": "code",
   "source": "! pip install tensorflow",
   "id": "5c9b4a0c344ef433",
   "outputs": [
    {
     "name": "stdout",
     "output_type": "stream",
     "text": [
      "Collecting tensorflow\r\n",
      "  Downloading tensorflow-2.20.0-cp313-cp313-manylinux_2_17_x86_64.manylinux2014_x86_64.whl.metadata (4.5 kB)\r\n",
      "Collecting absl-py>=1.0.0 (from tensorflow)\r\n",
      "  Downloading absl_py-2.3.1-py3-none-any.whl.metadata (3.3 kB)\r\n",
      "Collecting astunparse>=1.6.0 (from tensorflow)\r\n",
      "  Downloading astunparse-1.6.3-py2.py3-none-any.whl.metadata (4.4 kB)\r\n",
      "Collecting flatbuffers>=24.3.25 (from tensorflow)\r\n",
      "  Downloading flatbuffers-25.9.23-py2.py3-none-any.whl.metadata (875 bytes)\r\n",
      "Collecting gast!=0.5.0,!=0.5.1,!=0.5.2,>=0.2.1 (from tensorflow)\r\n",
      "  Downloading gast-0.6.0-py3-none-any.whl.metadata (1.3 kB)\r\n",
      "Collecting google_pasta>=0.1.1 (from tensorflow)\r\n",
      "  Downloading google_pasta-0.2.0-py3-none-any.whl.metadata (814 bytes)\r\n",
      "Collecting libclang>=13.0.0 (from tensorflow)\r\n",
      "  Downloading libclang-18.1.1-py2.py3-none-manylinux2010_x86_64.whl.metadata (5.2 kB)\r\n",
      "Collecting opt_einsum>=2.3.2 (from tensorflow)\r\n",
      "  Downloading opt_einsum-3.4.0-py3-none-any.whl.metadata (6.3 kB)\r\n",
      "Requirement already satisfied: packaging in /home/san/miniconda/envs/mac-linux/lib/python3.13/site-packages (from tensorflow) (25.0)\r\n",
      "Collecting protobuf>=5.28.0 (from tensorflow)\r\n",
      "  Downloading protobuf-6.32.1-cp39-abi3-manylinux2014_x86_64.whl.metadata (593 bytes)\r\n",
      "Requirement already satisfied: requests<3,>=2.21.0 in /home/san/miniconda/envs/mac-linux/lib/python3.13/site-packages (from tensorflow) (2.32.5)\r\n",
      "Requirement already satisfied: setuptools in /home/san/miniconda/envs/mac-linux/lib/python3.13/site-packages (from tensorflow) (78.1.1)\r\n",
      "Requirement already satisfied: six>=1.12.0 in /home/san/miniconda/envs/mac-linux/lib/python3.13/site-packages (from tensorflow) (1.17.0)\r\n",
      "Collecting termcolor>=1.1.0 (from tensorflow)\r\n",
      "  Downloading termcolor-3.1.0-py3-none-any.whl.metadata (6.4 kB)\r\n",
      "Requirement already satisfied: typing_extensions>=3.6.6 in /home/san/miniconda/envs/mac-linux/lib/python3.13/site-packages (from tensorflow) (4.15.0)\r\n",
      "Collecting wrapt>=1.11.0 (from tensorflow)\r\n",
      "  Downloading wrapt-1.17.3-cp313-cp313-manylinux1_x86_64.manylinux_2_28_x86_64.manylinux_2_5_x86_64.whl.metadata (6.4 kB)\r\n",
      "Collecting grpcio<2.0,>=1.24.3 (from tensorflow)\r\n",
      "  Downloading grpcio-1.75.0-cp313-cp313-manylinux2014_x86_64.manylinux_2_17_x86_64.whl.metadata (3.7 kB)\r\n",
      "Collecting tensorboard~=2.20.0 (from tensorflow)\r\n",
      "  Downloading tensorboard-2.20.0-py3-none-any.whl.metadata (1.8 kB)\r\n",
      "Collecting keras>=3.10.0 (from tensorflow)\r\n",
      "  Downloading keras-3.11.3-py3-none-any.whl.metadata (5.9 kB)\r\n",
      "Collecting numpy>=1.26.0 (from tensorflow)\r\n",
      "  Downloading numpy-2.3.3-cp313-cp313-manylinux_2_27_x86_64.manylinux_2_28_x86_64.whl.metadata (62 kB)\r\n",
      "Collecting h5py>=3.11.0 (from tensorflow)\r\n",
      "  Downloading h5py-3.14.0-cp313-cp313-manylinux_2_17_x86_64.manylinux2014_x86_64.whl.metadata (2.7 kB)\r\n",
      "Collecting ml_dtypes<1.0.0,>=0.5.1 (from tensorflow)\r\n",
      "  Downloading ml_dtypes-0.5.3-cp313-cp313-manylinux_2_27_x86_64.manylinux_2_28_x86_64.whl.metadata (8.9 kB)\r\n",
      "Requirement already satisfied: charset_normalizer<4,>=2 in /home/san/miniconda/envs/mac-linux/lib/python3.13/site-packages (from requests<3,>=2.21.0->tensorflow) (3.3.2)\r\n",
      "Requirement already satisfied: idna<4,>=2.5 in /home/san/miniconda/envs/mac-linux/lib/python3.13/site-packages (from requests<3,>=2.21.0->tensorflow) (3.7)\r\n",
      "Requirement already satisfied: urllib3<3,>=1.21.1 in /home/san/miniconda/envs/mac-linux/lib/python3.13/site-packages (from requests<3,>=2.21.0->tensorflow) (2.5.0)\r\n",
      "Requirement already satisfied: certifi>=2017.4.17 in /home/san/miniconda/envs/mac-linux/lib/python3.13/site-packages (from requests<3,>=2.21.0->tensorflow) (2025.8.3)\r\n",
      "Collecting markdown>=2.6.8 (from tensorboard~=2.20.0->tensorflow)\r\n",
      "  Downloading markdown-3.9-py3-none-any.whl.metadata (5.1 kB)\r\n",
      "Collecting pillow (from tensorboard~=2.20.0->tensorflow)\r\n",
      "  Downloading pillow-11.3.0-cp313-cp313-manylinux_2_27_x86_64.manylinux_2_28_x86_64.whl.metadata (9.0 kB)\r\n",
      "Collecting tensorboard-data-server<0.8.0,>=0.7.0 (from tensorboard~=2.20.0->tensorflow)\r\n",
      "  Downloading tensorboard_data_server-0.7.2-py3-none-any.whl.metadata (1.1 kB)\r\n",
      "Collecting werkzeug>=1.0.1 (from tensorboard~=2.20.0->tensorflow)\r\n",
      "  Downloading werkzeug-3.1.3-py3-none-any.whl.metadata (3.7 kB)\r\n",
      "Requirement already satisfied: wheel<1.0,>=0.23.0 in /home/san/miniconda/envs/mac-linux/lib/python3.13/site-packages (from astunparse>=1.6.0->tensorflow) (0.45.1)\r\n",
      "Collecting rich (from keras>=3.10.0->tensorflow)\r\n",
      "  Downloading rich-14.1.0-py3-none-any.whl.metadata (18 kB)\r\n",
      "Collecting namex (from keras>=3.10.0->tensorflow)\r\n",
      "  Downloading namex-0.1.0-py3-none-any.whl.metadata (322 bytes)\r\n",
      "Collecting optree (from keras>=3.10.0->tensorflow)\r\n",
      "  Downloading optree-0.17.0-cp313-cp313-manylinux_2_27_x86_64.manylinux_2_28_x86_64.whl.metadata (33 kB)\r\n",
      "Requirement already satisfied: MarkupSafe>=2.1.1 in /home/san/miniconda/envs/mac-linux/lib/python3.13/site-packages (from werkzeug>=1.0.1->tensorboard~=2.20.0->tensorflow) (3.0.2)\r\n",
      "Collecting markdown-it-py>=2.2.0 (from rich->keras>=3.10.0->tensorflow)\r\n",
      "  Downloading markdown_it_py-4.0.0-py3-none-any.whl.metadata (7.3 kB)\r\n",
      "Requirement already satisfied: pygments<3.0.0,>=2.13.0 in /home/san/miniconda/envs/mac-linux/lib/python3.13/site-packages (from rich->keras>=3.10.0->tensorflow) (2.19.1)\r\n",
      "Collecting mdurl~=0.1 (from markdown-it-py>=2.2.0->rich->keras>=3.10.0->tensorflow)\r\n",
      "  Downloading mdurl-0.1.2-py3-none-any.whl.metadata (1.6 kB)\r\n",
      "Downloading tensorflow-2.20.0-cp313-cp313-manylinux_2_17_x86_64.manylinux2014_x86_64.whl (620.8 MB)\r\n",
      "\u001B[2K   \u001B[90m━━━━━━━━━━━━━━━━━━━━━━━━━━━━━━━━━━━━━━━━\u001B[0m \u001B[32m620.8/620.8 MB\u001B[0m \u001B[31m70.0 kB/s\u001B[0m  \u001B[33m1:28:02\u001B[0mm0:00:01\u001B[0m03:33\u001B[0m\r\n",
      "\u001B[?25hDownloading grpcio-1.75.0-cp313-cp313-manylinux2014_x86_64.manylinux_2_17_x86_64.whl (6.4 MB)\r\n",
      "\u001B[2K   \u001B[90m━━━━━━━━━━━━━━━━━━━━━━━━━━━━━━━━━━━━━━━━\u001B[0m \u001B[32m6.4/6.4 MB\u001B[0m \u001B[31m60.8 kB/s\u001B[0m  \u001B[33m0:01:39\u001B[0mm0:00:03\u001B[0m00:07\u001B[0m\r\n",
      "\u001B[?25hDownloading ml_dtypes-0.5.3-cp313-cp313-manylinux_2_27_x86_64.manylinux_2_28_x86_64.whl (4.9 MB)\r\n",
      "\u001B[2K   \u001B[90m━━━━━━━━━━━━━━━━━━━━━━━━━━━━━━━━━━━━━━━━\u001B[0m \u001B[32m4.9/4.9 MB\u001B[0m \u001B[31m60.8 kB/s\u001B[0m  \u001B[33m0:01:17\u001B[0m eta \u001B[36m0:00:04\u001B[0m\r\n",
      "\u001B[?25hDownloading tensorboard-2.20.0-py3-none-any.whl (5.5 MB)\r\n",
      "\u001B[2K   \u001B[90m━━━━━━━━━━━━━━━━━━━━━━━━━━━━━━━━━━━━━━━━\u001B[0m \u001B[32m5.5/5.5 MB\u001B[0m \u001B[31m69.5 kB/s\u001B[0m  \u001B[33m0:01:22\u001B[0mm0:00:01\u001B[0m00:05\u001B[0m\r\n",
      "\u001B[?25hDownloading tensorboard_data_server-0.7.2-py3-none-any.whl (2.4 kB)\r\n",
      "Downloading absl_py-2.3.1-py3-none-any.whl (135 kB)\r\n",
      "Downloading astunparse-1.6.3-py2.py3-none-any.whl (12 kB)\r\n",
      "Downloading flatbuffers-25.9.23-py2.py3-none-any.whl (30 kB)\r\n",
      "Downloading gast-0.6.0-py3-none-any.whl (21 kB)\r\n",
      "Downloading google_pasta-0.2.0-py3-none-any.whl (57 kB)\r\n",
      "Downloading h5py-3.14.0-cp313-cp313-manylinux_2_17_x86_64.manylinux2014_x86_64.whl (4.9 MB)\r\n",
      "\u001B[2K   \u001B[90m━━━━━━━━━━━━━━━━━━━━━━━━━━━━━━━━━━━━━━━━\u001B[0m \u001B[32m4.9/4.9 MB\u001B[0m \u001B[31m55.4 kB/s\u001B[0m  \u001B[33m0:01:19\u001B[0m eta \u001B[36m0:00:04\u001B[0m\r\n",
      "\u001B[?25hDownloading keras-3.11.3-py3-none-any.whl (1.4 MB)\r\n",
      "\u001B[2K   \u001B[90m━━━━━━━━━━━━━━━━━━━━━━━━━━━━━━━━━━━━━━━━\u001B[0m \u001B[32m1.4/1.4 MB\u001B[0m \u001B[31m52.1 kB/s\u001B[0m  \u001B[33m0:00:26\u001B[0m eta \u001B[36m0:00:02\u001B[0m\r\n",
      "\u001B[?25hDownloading libclang-18.1.1-py2.py3-none-manylinux2010_x86_64.whl (24.5 MB)\r\n",
      "\u001B[2K   \u001B[90m━━━━━━━━━━━━━━━━━━━━━━━━━━━━━━━━━━━━━━━━\u001B[0m \u001B[32m24.5/24.5 MB\u001B[0m \u001B[31m50.5 kB/s\u001B[0m  \u001B[33m0:07:32\u001B[0mm0:00:03\u001B[0m00:15\u001B[0m\r\n",
      "\u001B[?25hDownloading markdown-3.9-py3-none-any.whl (107 kB)\r\n",
      "Downloading numpy-2.3.3-cp313-cp313-manylinux_2_27_x86_64.manylinux_2_28_x86_64.whl (16.6 MB)\r\n",
      "\u001B[2K   \u001B[90m━━━━━━━━━━━━━━━━━━━━━━━━━━━━━━━━━━━━━━━━\u001B[0m \u001B[32m16.6/16.6 MB\u001B[0m \u001B[31m53.0 kB/s\u001B[0m  \u001B[33m0:05:18\u001B[0mm0:00:03\u001B[0m00:15\u001B[0m\r\n",
      "\u001B[?25hDownloading opt_einsum-3.4.0-py3-none-any.whl (71 kB)\r\n",
      "Downloading protobuf-6.32.1-cp39-abi3-manylinux2014_x86_64.whl (322 kB)\r\n",
      "Downloading termcolor-3.1.0-py3-none-any.whl (7.7 kB)\r\n",
      "Downloading werkzeug-3.1.3-py3-none-any.whl (224 kB)\r\n",
      "Downloading wrapt-1.17.3-cp313-cp313-manylinux1_x86_64.manylinux_2_28_x86_64.manylinux_2_5_x86_64.whl (88 kB)\r\n",
      "Downloading namex-0.1.0-py3-none-any.whl (5.9 kB)\r\n",
      "Downloading optree-0.17.0-cp313-cp313-manylinux_2_27_x86_64.manylinux_2_28_x86_64.whl (414 kB)\r\n",
      "Downloading pillow-11.3.0-cp313-cp313-manylinux_2_27_x86_64.manylinux_2_28_x86_64.whl (6.6 MB)\r\n",
      "\u001B[2K   \u001B[90m━━━━━━━━━━━━━━━━━━━━━━━━━━━━━━━━━━━━━━━━\u001B[0m \u001B[32m6.6/6.6 MB\u001B[0m \u001B[31m43.4 kB/s\u001B[0m  \u001B[33m0:02:18\u001B[0mm0:00:02\u001B[0m00:08\u001B[0m\r\n",
      "\u001B[?25hDownloading rich-14.1.0-py3-none-any.whl (243 kB)\r\n",
      "Downloading markdown_it_py-4.0.0-py3-none-any.whl (87 kB)\r\n",
      "Downloading mdurl-0.1.2-py3-none-any.whl (10.0 kB)\r\n",
      "Installing collected packages: namex, libclang, flatbuffers, wrapt, werkzeug, termcolor, tensorboard-data-server, protobuf, pillow, optree, opt_einsum, numpy, mdurl, markdown, grpcio, google_pasta, gast, astunparse, absl-py, tensorboard, ml_dtypes, markdown-it-py, h5py, rich, keras, tensorflow\r\n",
      "\u001B[2K   \u001B[90m━━━━━━━━━━━━━━━━━━━━━━━━━━━━━━━━━━━━━━━━\u001B[0m \u001B[32m26/26\u001B[0m [tensorflow]6\u001B[0m [tensorflow]-py]\r\n",
      "\u001B[1A\u001B[2KSuccessfully installed absl-py-2.3.1 astunparse-1.6.3 flatbuffers-25.9.23 gast-0.6.0 google_pasta-0.2.0 grpcio-1.75.0 h5py-3.14.0 keras-3.11.3 libclang-18.1.1 markdown-3.9 markdown-it-py-4.0.0 mdurl-0.1.2 ml_dtypes-0.5.3 namex-0.1.0 numpy-2.3.3 opt_einsum-3.4.0 optree-0.17.0 pillow-11.3.0 protobuf-6.32.1 rich-14.1.0 tensorboard-2.20.0 tensorboard-data-server-0.7.2 tensorflow-2.20.0 termcolor-3.1.0 werkzeug-3.1.3 wrapt-1.17.3\r\n"
     ]
    }
   ],
   "execution_count": 4
  },
  {
   "metadata": {
    "ExecuteTime": {
     "end_time": "2025-09-25T16:18:24.251698Z",
     "start_time": "2025-09-25T16:18:21.937199Z"
    }
   },
   "cell_type": "code",
   "source": [
    "import tensorflow as tf\n",
    "# Create a large matrix\n",
    "matrix = tf.random.uniform((1000,1000))\n",
    "print(matrix)\n",
    "# Perform a matrix multiplication (parallelized on the GPU)\n",
    "result = tf.matmul(matrix, matrix)\n",
    "tf.print(result)"
   ],
   "id": "f0ce19ef2dcf61b9",
   "outputs": [
    {
     "name": "stderr",
     "output_type": "stream",
     "text": [
      "2025-09-26 00:18:22.287294: I tensorflow/core/platform/cpu_feature_guard.cc:210] This TensorFlow binary is optimized to use available CPU instructions in performance-critical operations.\n",
      "To enable the following instructions: AVX2 AVX512F FMA, in other operations, rebuild TensorFlow with the appropriate compiler flags.\n"
     ]
    },
    {
     "name": "stdout",
     "output_type": "stream",
     "text": [
      "tf.Tensor(\n",
      "[[0.13004518 0.84748614 0.2270875  ... 0.7458832  0.99783456 0.5731169 ]\n",
      " [0.08732259 0.70059323 0.23242676 ... 0.7435374  0.53951645 0.8577293 ]\n",
      " [0.10347593 0.14106536 0.81996095 ... 0.8034626  0.00634098 0.1147083 ]\n",
      " ...\n",
      " [0.30464292 0.79907846 0.77350307 ... 0.95706356 0.30141973 0.77926624]\n",
      " [0.3281932  0.5348165  0.3558544  ... 0.88482213 0.19720232 0.6675515 ]\n",
      " [0.8592788  0.0202378  0.61015797 ... 0.7103808  0.74298215 0.2031815 ]], shape=(1000, 1000), dtype=float32)\n",
      "[[237.677307 242.357559 241.551941 ... 255.651245 249.1474 241.301529]\n",
      " [249.864243 245.160522 251.838593 ... 268.313385 253.124878 247.757324]\n",
      " [248.079971 247.996582 248.186905 ... 263.282562 257.262878 247.419128]\n",
      " ...\n",
      " [246.074677 249.738266 244.21106 ... 261.871704 258.541809 239.883972]\n",
      " [245.866302 251.497 249.791916 ... 267.468079 257.267151 246.39621]\n",
      " [233.316971 238.451 239.813828 ... 253.885117 243.204727 239.814]]\n"
     ]
    },
    {
     "name": "stderr",
     "output_type": "stream",
     "text": [
      "WARNING: All log messages before absl::InitializeLog() is called are written to STDERR\n",
      "W0000 00:00:1758817104.139776   46871 gpu_device.cc:2342] Cannot dlopen some GPU libraries. Please make sure the missing libraries mentioned above are installed properly if you would like to use GPU. Follow the guide at https://www.tensorflow.org/install/gpu for how to download and setup the required libraries for your platform.\n",
      "Skipping registering GPU devices...\n"
     ]
    }
   ],
   "execution_count": 5
  },
  {
   "metadata": {},
   "cell_type": "markdown",
   "source": "In this case, TensorFlow automatically uses the GPU to accelerate the matrix multiplication.",
   "id": "411a1b249ed1fd9c"
  },
  {
   "metadata": {},
   "cell_type": "markdown",
   "source": [
    "## Example 3: Parallel operations in Python using PyTorch and GPU\n",
    "This example demonstrates the use of a GPU to perform parallel operations using PyTorch, a popular deep-learning framework that provides GPU acceleration. In deep-learning, we perform matrix operations using PyTorch’s CUDA support to leverage the GPU."
   ],
   "id": "49c94d10a6acb2b1"
  },
  {
   "metadata": {
    "jupyter": {
     "is_executing": true
    },
    "ExecuteTime": {
     "start_time": "2025-09-26T00:45:49.824385Z"
    }
   },
   "cell_type": "code",
   "source": [
    "! pip install torch\n",
    "import torch\n",
    "device = torch.device('cuda' if torch.cuda.is_available() else 'cpu')\n",
    "device"
   ],
   "id": "6ee00d178d300daa",
   "outputs": [
    {
     "name": "stdout",
     "output_type": "stream",
     "text": [
      "Collecting torch\r\n",
      "  Downloading torch-2.6.0-cp313-cp313-manylinux1_x86_64.whl.metadata (28 kB)\r\n",
      "Collecting filelock (from torch)\r\n",
      "  Downloading filelock-3.19.1-py3-none-any.whl.metadata (2.1 kB)\r\n",
      "Requirement already satisfied: typing-extensions>=4.10.0 in /home/san/miniconda/envs/mac-linux/lib/python3.13/site-packages (from torch) (4.15.0)\r\n",
      "Collecting networkx (from torch)\r\n",
      "  Downloading networkx-3.5-py3-none-any.whl.metadata (6.3 kB)\r\n",
      "Requirement already satisfied: jinja2 in /home/san/miniconda/envs/mac-linux/lib/python3.13/site-packages (from torch) (3.1.6)\r\n",
      "Collecting fsspec (from torch)\r\n",
      "  Downloading fsspec-2025.9.0-py3-none-any.whl.metadata (10 kB)\r\n",
      "Collecting nvidia-cuda-nvrtc-cu12==12.4.127 (from torch)\r\n",
      "  Downloading nvidia_cuda_nvrtc_cu12-12.4.127-py3-none-manylinux2014_x86_64.whl.metadata (1.5 kB)\r\n",
      "Collecting nvidia-cuda-runtime-cu12==12.4.127 (from torch)\r\n",
      "  Downloading nvidia_cuda_runtime_cu12-12.4.127-py3-none-manylinux2014_x86_64.whl.metadata (1.5 kB)\r\n",
      "Collecting nvidia-cuda-cupti-cu12==12.4.127 (from torch)\r\n",
      "  Downloading nvidia_cuda_cupti_cu12-12.4.127-py3-none-manylinux2014_x86_64.whl.metadata (1.6 kB)\r\n",
      "Collecting nvidia-cudnn-cu12==9.1.0.70 (from torch)\r\n",
      "  Downloading nvidia_cudnn_cu12-9.1.0.70-py3-none-manylinux2014_x86_64.whl.metadata (1.6 kB)\r\n",
      "Collecting nvidia-cublas-cu12==12.4.5.8 (from torch)\r\n",
      "  Downloading nvidia_cublas_cu12-12.4.5.8-py3-none-manylinux2014_x86_64.whl.metadata (1.5 kB)\r\n",
      "Collecting nvidia-cufft-cu12==11.2.1.3 (from torch)\r\n",
      "  Downloading nvidia_cufft_cu12-11.2.1.3-py3-none-manylinux2014_x86_64.whl.metadata (1.5 kB)\r\n",
      "Collecting nvidia-curand-cu12==10.3.5.147 (from torch)\r\n",
      "  Downloading nvidia_curand_cu12-10.3.5.147-py3-none-manylinux2014_x86_64.whl.metadata (1.5 kB)\r\n",
      "Collecting nvidia-cusolver-cu12==11.6.1.9 (from torch)\r\n",
      "  Downloading nvidia_cusolver_cu12-11.6.1.9-py3-none-manylinux2014_x86_64.whl.metadata (1.6 kB)\r\n",
      "Collecting nvidia-cusparse-cu12==12.3.1.170 (from torch)\r\n",
      "  Downloading nvidia_cusparse_cu12-12.3.1.170-py3-none-manylinux2014_x86_64.whl.metadata (1.6 kB)\r\n",
      "Collecting nvidia-cusparselt-cu12==0.6.2 (from torch)\r\n",
      "  Downloading nvidia_cusparselt_cu12-0.6.2-py3-none-manylinux2014_x86_64.whl.metadata (6.8 kB)\r\n",
      "Collecting nvidia-nccl-cu12==2.21.5 (from torch)\r\n",
      "  Downloading nvidia_nccl_cu12-2.21.5-py3-none-manylinux2014_x86_64.whl.metadata (1.8 kB)\r\n",
      "Collecting nvidia-nvtx-cu12==12.4.127 (from torch)\r\n",
      "  Downloading nvidia_nvtx_cu12-12.4.127-py3-none-manylinux2014_x86_64.whl.metadata (1.7 kB)\r\n",
      "Collecting nvidia-nvjitlink-cu12==12.4.127 (from torch)\r\n",
      "  Downloading nvidia_nvjitlink_cu12-12.4.127-py3-none-manylinux2014_x86_64.whl.metadata (1.5 kB)\r\n",
      "Collecting triton==3.2.0 (from torch)\r\n",
      "  Downloading triton-3.2.0-cp313-cp313-manylinux_2_17_x86_64.manylinux2014_x86_64.whl.metadata (1.4 kB)\r\n",
      "Requirement already satisfied: setuptools in /home/san/miniconda/envs/mac-linux/lib/python3.13/site-packages (from torch) (78.1.1)\r\n",
      "Collecting sympy==1.13.1 (from torch)\r\n",
      "  Downloading sympy-1.13.1-py3-none-any.whl.metadata (12 kB)\r\n",
      "Collecting mpmath<1.4,>=1.1.0 (from sympy==1.13.1->torch)\r\n",
      "  Downloading mpmath-1.3.0-py3-none-any.whl.metadata (8.6 kB)\r\n",
      "Requirement already satisfied: MarkupSafe>=2.0 in /home/san/miniconda/envs/mac-linux/lib/python3.13/site-packages (from jinja2->torch) (3.0.2)\r\n",
      "Downloading torch-2.6.0-cp313-cp313-manylinux1_x86_64.whl (766.6 MB)\r\n",
      "\u001B[2K   \u001B[91m━\u001B[0m\u001B[90m╺\u001B[0m\u001B[90m━━━━━━━━━━━━━━━━━━━━━━━━━━━━━━━━━━━━━━\u001B[0m \u001B[32m20.4/766.6 MB\u001B[0m \u001B[31m1.8 MB/s\u001B[0m eta \u001B[36m0:06:53\u001B[0m"
     ]
    }
   ],
   "execution_count": null
  },
  {
   "metadata": {
    "ExecuteTime": {
     "end_time": "2025-09-25T11:41:32.704937Z",
     "start_time": "2025-09-25T11:41:32.556897Z"
    }
   },
   "cell_type": "code",
   "source": "! uname -a",
   "id": "e5c9ac6a759f4d33",
   "outputs": [
    {
     "name": "stdout",
     "output_type": "stream",
     "text": [
      "Darwin Sanjeebs-MacBook-Pro.local 24.6.0 Darwin Kernel Version 24.6.0: Mon Jul 14 11:30:29 PDT 2025; root:xnu-11417.140.69~1/RELEASE_ARM64_T6000 arm64\r\n"
     ]
    }
   ],
   "execution_count": 9
  },
  {
   "metadata": {},
   "cell_type": "code",
   "outputs": [],
   "execution_count": null,
   "source": "",
   "id": "289767dcbfa2f918"
  }
 ],
 "metadata": {},
 "nbformat": 4,
 "nbformat_minor": 5
}
